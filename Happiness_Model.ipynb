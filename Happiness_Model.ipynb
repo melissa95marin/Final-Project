{
 "cells": [
  {
   "cell_type": "code",
   "execution_count": 35,
   "metadata": {},
   "outputs": [],
   "source": [
    "import pandas as pd\n",
    "import numpy as np\n",
    "import psycopg2\n",
    "\n",
    "\n",
    "from sqlalchemy import create_engine\n",
    "# Importing the libraries\n",
    "from sklearn.model_selection import train_test_split # for data validation\n",
    "\n",
    "# Models\n",
    "from sklearn.linear_model import LinearRegression, BayesianRidge, LassoLars\n",
    "from sklearn.ensemble import RandomForestRegressor\n",
    "from sklearn.tree import DecisionTreeRegressor\n",
    "import xgboost as xgb\n",
    "from xgboost import XGBRegressor\n",
    "import scipy\n",
    "import matplotlib.pyplot as plt\n",
    "import seaborn as sns\n",
    "%matplotlib inline\n",
    "\n",
    "# Metrics and Grid Search\n",
    "from sklearn import model_selection, metrics\n",
    "from sklearn.model_selection import GridSearchCV\n",
    "from sklearn.metrics import explained_variance_score, confusion_matrix, accuracy_score, classification_report, r2_score# Setting the default style of the plots"
   ]
  },
  {
   "cell_type": "markdown",
   "metadata": {},
   "source": [
    "### Database Connection"
   ]
  },
  {
   "cell_type": "code",
   "execution_count": 36,
   "metadata": {},
   "outputs": [],
   "source": [
    "# Connection parameters, yours will be different\n",
    "param_dic = {\n",
    "    \"host\"      : \"localhost\",\n",
    "    \"port\": 5432,\n",
    "    \"database\"  : \"World_Happiness\",\n",
    "    \"user\"      : \"postgres\",\n",
    "    \"password\"  : \"020849\"\n",
    "}\n",
    "def connect(params_dic):\n",
    "    \"\"\" Connect to the PostgreSQL database server \"\"\"\n",
    "    conn = None\n",
    "    try:\n",
    "        # connect to the PostgreSQL server\n",
    "        print('Connecting to the PostgreSQL database...')\n",
    "        conn = psycopg2.connect(**params_dic)\n",
    "    except (Exception, psycopg2.DatabaseError) as error:\n",
    "        print(error)\n",
    "        sys.exit(1) \n",
    "    print(\"Connection successful\")\n",
    "    return conn\n"
   ]
  },
  {
   "cell_type": "code",
   "execution_count": 37,
   "metadata": {},
   "outputs": [],
   "source": [
    "def postgresql_to_dataframe(conn, select_query, column_names):\n",
    "    \"\"\"\n",
    "    Tranform a SELECT query into a pandas dataframe\n",
    "    \"\"\"\n",
    "    cursor = conn.cursor()\n",
    "    try:\n",
    "        cursor.execute(select_query)\n",
    "    except (Exception, psycopg2.DatabaseError) as error:\n",
    "        print(\"Error: %s\" % error)\n",
    "        cursor.close()\n",
    "        return 1\n",
    "    \n",
    "    # Naturally we get a list of tupples\n",
    "    tupples = cursor.fetchall()\n",
    "    cursor.close()\n",
    "    \n",
    "    # We just need to turn it into a pandas dataframe\n",
    "    df = pd.DataFrame(tupples, columns=column_names)\n",
    "    return df"
   ]
  },
  {
   "cell_type": "markdown",
   "metadata": {},
   "source": [
    "### Retrieving Data join Happiness table and World Mortality by Covid"
   ]
  },
  {
   "cell_type": "code",
   "execution_count": 38,
   "metadata": {},
   "outputs": [
    {
     "name": "stdout",
     "output_type": "stream",
     "text": [
      "Connecting to the PostgreSQL database...\n",
      "Connection successful\n"
     ]
    },
    {
     "data": {
      "text/html": [
       "<div>\n",
       "<style scoped>\n",
       "    .dataframe tbody tr th:only-of-type {\n",
       "        vertical-align: middle;\n",
       "    }\n",
       "\n",
       "    .dataframe tbody tr th {\n",
       "        vertical-align: top;\n",
       "    }\n",
       "\n",
       "    .dataframe thead th {\n",
       "        text-align: right;\n",
       "    }\n",
       "</style>\n",
       "<table border=\"1\" class=\"dataframe\">\n",
       "  <thead>\n",
       "    <tr style=\"text-align: right;\">\n",
       "      <th></th>\n",
       "      <th>Country name</th>\n",
       "      <th>year</th>\n",
       "      <th>Happiness_ranking</th>\n",
       "      <th>Deaths_byCovid</th>\n",
       "    </tr>\n",
       "  </thead>\n",
       "  <tbody>\n",
       "    <tr>\n",
       "      <th>0</th>\n",
       "      <td>United States of America</td>\n",
       "      <td>2021</td>\n",
       "      <td>6.959087849</td>\n",
       "      <td>467012</td>\n",
       "    </tr>\n",
       "    <tr>\n",
       "      <th>1</th>\n",
       "      <td>Brazil</td>\n",
       "      <td>2021</td>\n",
       "      <td>6.009953499</td>\n",
       "      <td>426136</td>\n",
       "    </tr>\n",
       "    <tr>\n",
       "      <th>2</th>\n",
       "      <td>India</td>\n",
       "      <td>2021</td>\n",
       "      <td>3.558253765</td>\n",
       "      <td>332342</td>\n",
       "    </tr>\n",
       "    <tr>\n",
       "      <th>3</th>\n",
       "      <td>Russian Federation</td>\n",
       "      <td>2021</td>\n",
       "      <td>5.448261261</td>\n",
       "      <td>251841</td>\n",
       "    </tr>\n",
       "    <tr>\n",
       "      <th>4</th>\n",
       "      <td>Mexico</td>\n",
       "      <td>2021</td>\n",
       "      <td>5.99075079</td>\n",
       "      <td>156199</td>\n",
       "    </tr>\n",
       "  </tbody>\n",
       "</table>\n",
       "</div>"
      ],
      "text/plain": [
       "               Country name  year Happiness_ranking  Deaths_byCovid\n",
       "0  United States of America  2021       6.959087849          467012\n",
       "1                    Brazil  2021       6.009953499          426136\n",
       "2                     India  2021       3.558253765          332342\n",
       "3        Russian Federation  2021       5.448261261          251841\n",
       "4                    Mexico  2021        5.99075079          156199"
      ]
     },
     "execution_count": 38,
     "metadata": {},
     "output_type": "execute_result"
    }
   ],
   "source": [
    "# Connect to the database\n",
    "conn = connect(param_dic)\n",
    "column_names = ['Country name','year','Happiness_ranking', 'Deaths_byCovid']\n",
    "# Execute the  query\n",
    "happines_covid_df00 = postgresql_to_dataframe(conn, \"select  wmc.country_name, w.year, w.happiness_ranking, wmc.number_deaths \\\n",
    "                                    from world_happiness w INNER JOIN world_mortality_by_covid wmc ON wmc.country_code=w.country_code AND w.year=wmc.year AND w.year=2020 \\\n",
    "                                    order by wmc.number_deaths DESC LIMIT 10 \", column_names)\n",
    "\n",
    "happines_covid_df21 = postgresql_to_dataframe(conn, \"select  wmc.country_name, w.year, w.happiness_ranking, wmc.number_deaths \\\n",
    "                                    from world_happiness w INNER JOIN world_mortality_by_covid wmc ON wmc.country_code=w.country_code AND w.year=wmc.year AND w.year=2021 \\\n",
    "                                    order by wmc.number_deaths DESC LIMIT 10 \", column_names)\n",
    "\n",
    "happines_covid_df00.to_csv('happines_covid2020.csv', index=None)\n",
    "happines_covid_df21.to_csv('happines_covid2021.csv', index=None)\n",
    "happines_covid_df21.head()"
   ]
  },
  {
   "cell_type": "markdown",
   "metadata": {},
   "source": [
    "### Retrieving Data join Happiness table and World Mortality "
   ]
  },
  {
   "cell_type": "code",
   "execution_count": 39,
   "metadata": {},
   "outputs": [
    {
     "name": "stdout",
     "output_type": "stream",
     "text": [
      "Connecting to the PostgreSQL database...\n",
      "Connection successful\n"
     ]
    },
    {
     "data": {
      "text/html": [
       "<div>\n",
       "<style scoped>\n",
       "    .dataframe tbody tr th:only-of-type {\n",
       "        vertical-align: middle;\n",
       "    }\n",
       "\n",
       "    .dataframe tbody tr th {\n",
       "        vertical-align: top;\n",
       "    }\n",
       "\n",
       "    .dataframe thead th {\n",
       "        text-align: right;\n",
       "    }\n",
       "</style>\n",
       "<table border=\"1\" class=\"dataframe\">\n",
       "  <thead>\n",
       "    <tr style=\"text-align: right;\">\n",
       "      <th></th>\n",
       "      <th>Country name</th>\n",
       "      <th>year</th>\n",
       "      <th>Happiness_ranking</th>\n",
       "      <th>All_deaths</th>\n",
       "    </tr>\n",
       "  </thead>\n",
       "  <tbody>\n",
       "    <tr>\n",
       "      <th>0</th>\n",
       "      <td>United States of America</td>\n",
       "      <td>2021</td>\n",
       "      <td>6.959087849</td>\n",
       "      <td>467012</td>\n",
       "    </tr>\n",
       "    <tr>\n",
       "      <th>1</th>\n",
       "      <td>Brazil</td>\n",
       "      <td>2021</td>\n",
       "      <td>6.009953499</td>\n",
       "      <td>426136</td>\n",
       "    </tr>\n",
       "    <tr>\n",
       "      <th>2</th>\n",
       "      <td>India</td>\n",
       "      <td>2021</td>\n",
       "      <td>3.558253765</td>\n",
       "      <td>332342</td>\n",
       "    </tr>\n",
       "    <tr>\n",
       "      <th>3</th>\n",
       "      <td>Russian Federation</td>\n",
       "      <td>2021</td>\n",
       "      <td>5.448261261</td>\n",
       "      <td>251841</td>\n",
       "    </tr>\n",
       "    <tr>\n",
       "      <th>4</th>\n",
       "      <td>Mexico</td>\n",
       "      <td>2021</td>\n",
       "      <td>5.99075079</td>\n",
       "      <td>156199</td>\n",
       "    </tr>\n",
       "  </tbody>\n",
       "</table>\n",
       "</div>"
      ],
      "text/plain": [
       "               Country name  year Happiness_ranking  All_deaths\n",
       "0  United States of America  2021       6.959087849      467012\n",
       "1                    Brazil  2021       6.009953499      426136\n",
       "2                     India  2021       3.558253765      332342\n",
       "3        Russian Federation  2021       5.448261261      251841\n",
       "4                    Mexico  2021        5.99075079      156199"
      ]
     },
     "execution_count": 39,
     "metadata": {},
     "output_type": "execute_result"
    }
   ],
   "source": [
    "conn = connect(param_dic)\n",
    "column_names = ['Country name','year','Happiness_ranking', 'All_deaths']\n",
    "# Execute the  query\n",
    "happines_mortality_df00 = postgresql_to_dataframe(conn,'select  wmc.country_name, w.year, w.happiness_ranking, wmc.number_deaths \\\n",
    "                                                        from world_happiness w INNER JOIN world_mortality_by_covid wmc ON wmc.country_code=w.country_code AND w.year=wmc.year AND w.year=2020 \\\n",
    "                                                    order by wmc.number_deaths DESC LIMIT 10', column_names) \n",
    "\n",
    "happines_mortality_df21 = postgresql_to_dataframe(conn,'select  wmc.country_name, w.year, w.happiness_ranking, wmc.number_deaths \\\n",
    "                                                        from world_happiness w INNER JOIN world_mortality_by_covid wmc ON wmc.country_code=w.country_code AND w.year=wmc.year AND w.year=2021 \\\n",
    "                                                    order by wmc.number_deaths DESC LIMIT 10', column_names) \n",
    "\n",
    "happines_mortality_df00.to_csv('happines_mortality2020.csv', index=None)\n",
    "happines_mortality_df21.to_csv('happines_mortality2021.csv', index=None)\n",
    "happines_mortality_df21.head()"
   ]
  },
  {
   "cell_type": "markdown",
   "metadata": {},
   "source": [
    "### Retrieving Data join Happiness table and World Population"
   ]
  },
  {
   "cell_type": "code",
   "execution_count": 40,
   "metadata": {},
   "outputs": [
    {
     "name": "stdout",
     "output_type": "stream",
     "text": [
      "Connecting to the PostgreSQL database...\n",
      "Connection successful\n"
     ]
    },
    {
     "data": {
      "text/html": [
       "<div>\n",
       "<style scoped>\n",
       "    .dataframe tbody tr th:only-of-type {\n",
       "        vertical-align: middle;\n",
       "    }\n",
       "\n",
       "    .dataframe tbody tr th {\n",
       "        vertical-align: top;\n",
       "    }\n",
       "\n",
       "    .dataframe thead th {\n",
       "        text-align: right;\n",
       "    }\n",
       "</style>\n",
       "<table border=\"1\" class=\"dataframe\">\n",
       "  <thead>\n",
       "    <tr style=\"text-align: right;\">\n",
       "      <th></th>\n",
       "      <th>year</th>\n",
       "      <th>Country name</th>\n",
       "      <th>Happiness_ranking</th>\n",
       "      <th>Population</th>\n",
       "    </tr>\n",
       "  </thead>\n",
       "  <tbody>\n",
       "    <tr>\n",
       "      <th>0</th>\n",
       "      <td>2021</td>\n",
       "      <td>China</td>\n",
       "      <td>5.862864</td>\n",
       "      <td>1412360000</td>\n",
       "    </tr>\n",
       "    <tr>\n",
       "      <th>1</th>\n",
       "      <td>2020</td>\n",
       "      <td>China</td>\n",
       "      <td>5.771065</td>\n",
       "      <td>1411100000</td>\n",
       "    </tr>\n",
       "    <tr>\n",
       "      <th>2</th>\n",
       "      <td>2019</td>\n",
       "      <td>China</td>\n",
       "      <td>5.144120</td>\n",
       "      <td>1407745000</td>\n",
       "    </tr>\n",
       "    <tr>\n",
       "      <th>3</th>\n",
       "      <td>2018</td>\n",
       "      <td>China</td>\n",
       "      <td>5.131434</td>\n",
       "      <td>1402760000</td>\n",
       "    </tr>\n",
       "    <tr>\n",
       "      <th>4</th>\n",
       "      <td>2017</td>\n",
       "      <td>China</td>\n",
       "      <td>5.099061</td>\n",
       "      <td>1396215000</td>\n",
       "    </tr>\n",
       "    <tr>\n",
       "      <th>...</th>\n",
       "      <td>...</td>\n",
       "      <td>...</td>\n",
       "      <td>...</td>\n",
       "      <td>...</td>\n",
       "    </tr>\n",
       "    <tr>\n",
       "      <th>2033</th>\n",
       "      <td>2015</td>\n",
       "      <td>Iceland</td>\n",
       "      <td>7.498071</td>\n",
       "      <td>330815</td>\n",
       "    </tr>\n",
       "    <tr>\n",
       "      <th>2034</th>\n",
       "      <td>2013</td>\n",
       "      <td>Iceland</td>\n",
       "      <td>7.501394</td>\n",
       "      <td>323764</td>\n",
       "    </tr>\n",
       "    <tr>\n",
       "      <th>2035</th>\n",
       "      <td>2012</td>\n",
       "      <td>Iceland</td>\n",
       "      <td>7.590660</td>\n",
       "      <td>320716</td>\n",
       "    </tr>\n",
       "    <tr>\n",
       "      <th>2036</th>\n",
       "      <td>2008</td>\n",
       "      <td>Iceland</td>\n",
       "      <td>6.888284</td>\n",
       "      <td>317414</td>\n",
       "    </tr>\n",
       "    <tr>\n",
       "      <th>2037</th>\n",
       "      <td>2007</td>\n",
       "      <td>Belize</td>\n",
       "      <td>6.450644</td>\n",
       "      <td>299031</td>\n",
       "    </tr>\n",
       "  </tbody>\n",
       "</table>\n",
       "<p>2038 rows × 4 columns</p>\n",
       "</div>"
      ],
      "text/plain": [
       "      year Country name  Happiness_ranking  Population\n",
       "0     2021        China           5.862864  1412360000\n",
       "1     2020        China           5.771065  1411100000\n",
       "2     2019        China           5.144120  1407745000\n",
       "3     2018        China           5.131434  1402760000\n",
       "4     2017        China           5.099061  1396215000\n",
       "...    ...          ...                ...         ...\n",
       "2033  2015      Iceland           7.498071      330815\n",
       "2034  2013      Iceland           7.501394      323764\n",
       "2035  2012      Iceland           7.590660      320716\n",
       "2036  2008      Iceland           6.888284      317414\n",
       "2037  2007       Belize           6.450644      299031\n",
       "\n",
       "[2038 rows x 4 columns]"
      ]
     },
     "execution_count": 40,
     "metadata": {},
     "output_type": "execute_result"
    }
   ],
   "source": [
    "conn = connect(param_dic)\n",
    "column_names = ['year', 'Country name','Happiness_ranking', 'Population']\n",
    "# Execute the  query\n",
    "happines_population = postgresql_to_dataframe(conn,'select w.year, po.country_name , w.happiness_ranking, po.population \\\n",
    "                                                        from world_happiness w INNER JOIN population po ON \\\n",
    "                                                        po.country_code=w.country_code AND w.year=po.year \\\n",
    "                                                        order by population DESC', column_names) \n",
    "happines_population['Happiness_ranking'] = happines_population['Happiness_ranking'].astype(float)\n",
    "\n",
    "happines_population"
   ]
  },
  {
   "cell_type": "code",
   "execution_count": 41,
   "metadata": {},
   "outputs": [
    {
     "name": "stderr",
     "output_type": "stream",
     "text": [
      "/var/folders/zq/rwx6mtq50yd_vfcnh_qt_z580000gn/T/ipykernel_47300/1505454067.py:3: FutureWarning: Indexing with multiple keys (implicitly converted to a tuple of keys) will be deprecated, use a list instead.\n",
      "  happines_population = happines_population.groupby(by= 'Country name')['Happiness_ranking','Population'].mean().reset_index()\n"
     ]
    }
   ],
   "source": [
    "happines_population= happines_population.reindex()\n",
    "#happines_population.shape\n",
    "happines_population = happines_population.groupby(by= 'Country name')['Happiness_ranking','Population'].mean().reset_index()\n",
    "happiness_mostpopulated= happines_population.head(10)\n",
    "happiness_lesspopulated=happines_population.tail(10)\n",
    "happiness_mostpopulated.to_csv('happiness_mostpopulated.csv', index=None)\n",
    "happiness_lesspopulated.to_csv('happiness_lesspopulated.csv', index=None)"
   ]
  },
  {
   "cell_type": "markdown",
   "metadata": {},
   "source": [
    "### Retrieving from World Happiness table (Main Dataset)"
   ]
  },
  {
   "cell_type": "code",
   "execution_count": 42,
   "metadata": {},
   "outputs": [
    {
     "name": "stdout",
     "output_type": "stream",
     "text": [
      "Connecting to the PostgreSQL database...\n",
      "Connection successful\n"
     ]
    },
    {
     "data": {
      "text/html": [
       "<div>\n",
       "<style scoped>\n",
       "    .dataframe tbody tr th:only-of-type {\n",
       "        vertical-align: middle;\n",
       "    }\n",
       "\n",
       "    .dataframe tbody tr th {\n",
       "        vertical-align: top;\n",
       "    }\n",
       "\n",
       "    .dataframe thead th {\n",
       "        text-align: right;\n",
       "    }\n",
       "</style>\n",
       "<table border=\"1\" class=\"dataframe\">\n",
       "  <thead>\n",
       "    <tr style=\"text-align: right;\">\n",
       "      <th></th>\n",
       "      <th>Country Code</th>\n",
       "      <th>Country name</th>\n",
       "      <th>year</th>\n",
       "      <th>Happiness_ranking</th>\n",
       "      <th>Log GDP per capita</th>\n",
       "      <th>Social support</th>\n",
       "      <th>Healthy life expectancy at birth</th>\n",
       "      <th>Freedom to make life choices</th>\n",
       "      <th>Generosity</th>\n",
       "      <th>Perceptions of corruption</th>\n",
       "      <th>Positive affect</th>\n",
       "      <th>Negative affect</th>\n",
       "      <th>Confidence in national government</th>\n",
       "    </tr>\n",
       "  </thead>\n",
       "  <tbody>\n",
       "    <tr>\n",
       "      <th>0</th>\n",
       "      <td>AFG</td>\n",
       "      <td>Afghanistan</td>\n",
       "      <td>2008</td>\n",
       "      <td>3.723589897</td>\n",
       "      <td>7.302573681</td>\n",
       "      <td>0.450662315</td>\n",
       "      <td>50.5</td>\n",
       "      <td>0.718114316</td>\n",
       "      <td>0.173169285</td>\n",
       "      <td>0.88168633</td>\n",
       "      <td>0.414297044</td>\n",
       "      <td>0.25819549</td>\n",
       "      <td>0.61207211</td>\n",
       "    </tr>\n",
       "    <tr>\n",
       "      <th>1</th>\n",
       "      <td>AFG</td>\n",
       "      <td>Afghanistan</td>\n",
       "      <td>2009</td>\n",
       "      <td>4.401778221</td>\n",
       "      <td>7.472446442</td>\n",
       "      <td>0.55230844</td>\n",
       "      <td>50.79999924</td>\n",
       "      <td>0.678896368</td>\n",
       "      <td>0.195469126</td>\n",
       "      <td>0.850035429</td>\n",
       "      <td>0.481421441</td>\n",
       "      <td>0.23709242</td>\n",
       "      <td>0.611545205</td>\n",
       "    </tr>\n",
       "    <tr>\n",
       "      <th>2</th>\n",
       "      <td>AFG</td>\n",
       "      <td>Afghanistan</td>\n",
       "      <td>2010</td>\n",
       "      <td>4.75838089</td>\n",
       "      <td>7.579182625</td>\n",
       "      <td>0.539075196</td>\n",
       "      <td>51.09999847</td>\n",
       "      <td>0.60012722</td>\n",
       "      <td>0.125859469</td>\n",
       "      <td>0.706766069</td>\n",
       "      <td>0.516906679</td>\n",
       "      <td>0.275323808</td>\n",
       "      <td>0.299357414</td>\n",
       "    </tr>\n",
       "    <tr>\n",
       "      <th>3</th>\n",
       "      <td>AFG</td>\n",
       "      <td>Afghanistan</td>\n",
       "      <td>2011</td>\n",
       "      <td>3.83171916</td>\n",
       "      <td>7.552006245</td>\n",
       "      <td>0.521103561</td>\n",
       "      <td>51.40000153</td>\n",
       "      <td>0.495901406</td>\n",
       "      <td>0.167722777</td>\n",
       "      <td>0.731108546</td>\n",
       "      <td>0.479834676</td>\n",
       "      <td>0.267174691</td>\n",
       "      <td>0.307385713</td>\n",
       "    </tr>\n",
       "    <tr>\n",
       "      <th>4</th>\n",
       "      <td>AFG</td>\n",
       "      <td>Afghanistan</td>\n",
       "      <td>2012</td>\n",
       "      <td>3.782937527</td>\n",
       "      <td>7.637953281</td>\n",
       "      <td>0.520636737</td>\n",
       "      <td>51.70000076</td>\n",
       "      <td>0.530935049</td>\n",
       "      <td>0.241247073</td>\n",
       "      <td>0.775619805</td>\n",
       "      <td>0.613512814</td>\n",
       "      <td>0.267919123</td>\n",
       "      <td>0.435440153</td>\n",
       "    </tr>\n",
       "  </tbody>\n",
       "</table>\n",
       "</div>"
      ],
      "text/plain": [
       "  Country Code Country name  year Happiness_ranking Log GDP per capita  \\\n",
       "0          AFG  Afghanistan  2008       3.723589897        7.302573681   \n",
       "1          AFG  Afghanistan  2009       4.401778221        7.472446442   \n",
       "2          AFG  Afghanistan  2010        4.75838089        7.579182625   \n",
       "3          AFG  Afghanistan  2011        3.83171916        7.552006245   \n",
       "4          AFG  Afghanistan  2012       3.782937527        7.637953281   \n",
       "\n",
       "  Social support Healthy life expectancy at birth  \\\n",
       "0    0.450662315                             50.5   \n",
       "1     0.55230844                      50.79999924   \n",
       "2    0.539075196                      51.09999847   \n",
       "3    0.521103561                      51.40000153   \n",
       "4    0.520636737                      51.70000076   \n",
       "\n",
       "  Freedom to make life choices   Generosity Perceptions of corruption  \\\n",
       "0                  0.718114316  0.173169285                0.88168633   \n",
       "1                  0.678896368  0.195469126               0.850035429   \n",
       "2                   0.60012722  0.125859469               0.706766069   \n",
       "3                  0.495901406  0.167722777               0.731108546   \n",
       "4                  0.530935049  0.241247073               0.775619805   \n",
       "\n",
       "  Positive affect Negative affect Confidence in national government  \n",
       "0     0.414297044      0.25819549                        0.61207211  \n",
       "1     0.481421441      0.23709242                       0.611545205  \n",
       "2     0.516906679     0.275323808                       0.299357414  \n",
       "3     0.479834676     0.267174691                       0.307385713  \n",
       "4     0.613512814     0.267919123                       0.435440153  "
      ]
     },
     "execution_count": 42,
     "metadata": {},
     "output_type": "execute_result"
    }
   ],
   "source": [
    "conn = connect(param_dic)\n",
    "column_names = ['Country Code','Country name','year','Happiness_ranking', 'Log GDP per capita','Social support', 'Healthy life expectancy at birth','Freedom to make life choices', 'Generosity',\\\n",
    "                'Perceptions of corruption','Positive affect', 'Negative affect', 'Confidence in national government']\n",
    "# Execute the \"SELECT *\" query\n",
    "world_happiness = postgresql_to_dataframe(conn, \"select * from world_happiness\", column_names)\n",
    "\n",
    "world_happiness.to_csv('world_happiness.csv', index=None)\n",
    "world_happiness.head()"
   ]
  },
  {
   "cell_type": "code",
   "execution_count": 43,
   "metadata": {},
   "outputs": [
    {
     "name": "stdout",
     "output_type": "stream",
     "text": [
      "<class 'pandas.core.frame.DataFrame'>\n",
      "RangeIndex: 2074 entries, 0 to 2073\n",
      "Data columns (total 13 columns):\n",
      " #   Column                             Non-Null Count  Dtype  \n",
      "---  ------                             --------------  -----  \n",
      " 0   Country Code                       2074 non-null   object \n",
      " 1   Country name                       2074 non-null   object \n",
      " 2   year                               2074 non-null   int64  \n",
      " 3   Happiness_ranking                  2074 non-null   float64\n",
      " 4   Log GDP per capita                 2074 non-null   float64\n",
      " 5   Social support                     2074 non-null   float64\n",
      " 6   Healthy life expectancy at birth   2074 non-null   float64\n",
      " 7   Freedom to make life choices       2074 non-null   float64\n",
      " 8   Generosity                         2074 non-null   float64\n",
      " 9   Perceptions of corruption          2074 non-null   float64\n",
      " 10  Positive affect                    2074 non-null   float64\n",
      " 11  Negative affect                    2074 non-null   float64\n",
      " 12  Confidence in national government  2074 non-null   float64\n",
      "dtypes: float64(10), int64(1), object(2)\n",
      "memory usage: 210.8+ KB\n"
     ]
    }
   ],
   "source": [
    "world_happiness= world_happiness.astype({'Happiness_ranking':'float', 'Log GDP per capita':'float','Social support':'float', 'Healthy life expectancy at birth':'float', 'Freedom to make life choices':'float','Generosity':'float',\\\n",
    "                                         'Perceptions of corruption':'float', 'Positive affect':'float' , 'Negative affect' :'float' , 'Confidence in national government':'float'})\n",
    "world_happiness.info()"
   ]
  },
  {
   "cell_type": "code",
   "execution_count": 44,
   "metadata": {},
   "outputs": [],
   "source": [
    "world_happiness= world_happiness.reindex()"
   ]
  },
  {
   "cell_type": "markdown",
   "metadata": {},
   "source": [
    "### World Happiness Model"
   ]
  },
  {
   "cell_type": "code",
   "execution_count": 45,
   "metadata": {},
   "outputs": [
    {
     "data": {
      "text/plain": [
       "(2074, 13)"
      ]
     },
     "execution_count": 45,
     "metadata": {},
     "output_type": "execute_result"
    }
   ],
   "source": [
    "world_happiness.shape"
   ]
  },
  {
   "cell_type": "code",
   "execution_count": 46,
   "metadata": {},
   "outputs": [
    {
     "name": "stderr",
     "output_type": "stream",
     "text": [
      "/var/folders/zq/rwx6mtq50yd_vfcnh_qt_z580000gn/T/ipykernel_47300/544797881.py:2: FutureWarning: Indexing with multiple keys (implicitly converted to a tuple of keys) will be deprecated, use a list instead.\n",
      "  data_model = world_happiness.groupby(by= 'Country name')['Happiness_ranking', 'Log GDP per capita','Social support', 'Healthy life expectancy at birth','Freedom to make life choices',\\\n"
     ]
    },
    {
     "data": {
      "text/html": [
       "<div>\n",
       "<style scoped>\n",
       "    .dataframe tbody tr th:only-of-type {\n",
       "        vertical-align: middle;\n",
       "    }\n",
       "\n",
       "    .dataframe tbody tr th {\n",
       "        vertical-align: top;\n",
       "    }\n",
       "\n",
       "    .dataframe thead th {\n",
       "        text-align: right;\n",
       "    }\n",
       "</style>\n",
       "<table border=\"1\" class=\"dataframe\">\n",
       "  <thead>\n",
       "    <tr style=\"text-align: right;\">\n",
       "      <th></th>\n",
       "      <th>Country name</th>\n",
       "      <th>Happiness_ranking</th>\n",
       "      <th>Log GDP per capita</th>\n",
       "      <th>Social support</th>\n",
       "      <th>Healthy life expectancy at birth</th>\n",
       "      <th>Freedom to make life choices</th>\n",
       "      <th>Generosity</th>\n",
       "      <th>Perceptions of corruption</th>\n",
       "      <th>Positive affect</th>\n",
       "      <th>Negative affect</th>\n",
       "      <th>Confidence in national government</th>\n",
       "    </tr>\n",
       "  </thead>\n",
       "  <tbody>\n",
       "    <tr>\n",
       "      <th>0</th>\n",
       "      <td>Afghanistan</td>\n",
       "      <td>3.505506</td>\n",
       "      <td>6.999711</td>\n",
       "      <td>0.504086</td>\n",
       "      <td>52.353846</td>\n",
       "      <td>0.508496</td>\n",
       "      <td>0.069534</td>\n",
       "      <td>0.851207</td>\n",
       "      <td>0.450821</td>\n",
       "      <td>0.348225</td>\n",
       "      <td>0.382015</td>\n",
       "    </tr>\n",
       "    <tr>\n",
       "      <th>1</th>\n",
       "      <td>Albania</td>\n",
       "      <td>5.036288</td>\n",
       "      <td>9.378583</td>\n",
       "      <td>0.715285</td>\n",
       "      <td>68.457500</td>\n",
       "      <td>0.674589</td>\n",
       "      <td>-0.073345</td>\n",
       "      <td>0.871272</td>\n",
       "      <td>0.558089</td>\n",
       "      <td>0.296007</td>\n",
       "      <td>0.320455</td>\n",
       "    </tr>\n",
       "    <tr>\n",
       "      <th>2</th>\n",
       "      <td>Algeria</td>\n",
       "      <td>5.377251</td>\n",
       "      <td>9.334042</td>\n",
       "      <td>0.733343</td>\n",
       "      <td>66.080000</td>\n",
       "      <td>0.424643</td>\n",
       "      <td>-0.110925</td>\n",
       "      <td>0.558139</td>\n",
       "      <td>0.482105</td>\n",
       "      <td>0.240385</td>\n",
       "      <td>0.000000</td>\n",
       "    </tr>\n",
       "    <tr>\n",
       "      <th>3</th>\n",
       "      <td>Angola</td>\n",
       "      <td>4.420299</td>\n",
       "      <td>8.989725</td>\n",
       "      <td>0.737973</td>\n",
       "      <td>52.150001</td>\n",
       "      <td>0.455957</td>\n",
       "      <td>-0.088896</td>\n",
       "      <td>0.867018</td>\n",
       "      <td>0.625734</td>\n",
       "      <td>0.351173</td>\n",
       "      <td>0.397389</td>\n",
       "    </tr>\n",
       "    <tr>\n",
       "      <th>4</th>\n",
       "      <td>Argentina</td>\n",
       "      <td>6.285048</td>\n",
       "      <td>10.031485</td>\n",
       "      <td>0.903041</td>\n",
       "      <td>66.628125</td>\n",
       "      <td>0.771455</td>\n",
       "      <td>-0.152174</td>\n",
       "      <td>0.840388</td>\n",
       "      <td>0.739983</td>\n",
       "      <td>0.287840</td>\n",
       "      <td>0.381224</td>\n",
       "    </tr>\n",
       "    <tr>\n",
       "      <th>...</th>\n",
       "      <td>...</td>\n",
       "      <td>...</td>\n",
       "      <td>...</td>\n",
       "      <td>...</td>\n",
       "      <td>...</td>\n",
       "      <td>...</td>\n",
       "      <td>...</td>\n",
       "      <td>...</td>\n",
       "      <td>...</td>\n",
       "      <td>...</td>\n",
       "      <td>...</td>\n",
       "    </tr>\n",
       "    <tr>\n",
       "      <th>158</th>\n",
       "      <td>Venezuela</td>\n",
       "      <td>5.962723</td>\n",
       "      <td>7.515371</td>\n",
       "      <td>0.903985</td>\n",
       "      <td>64.987813</td>\n",
       "      <td>0.661967</td>\n",
       "      <td>-0.078452</td>\n",
       "      <td>0.797000</td>\n",
       "      <td>0.776460</td>\n",
       "      <td>0.268086</td>\n",
       "      <td>0.371462</td>\n",
       "    </tr>\n",
       "    <tr>\n",
       "      <th>159</th>\n",
       "      <td>Vietnam</td>\n",
       "      <td>5.330300</td>\n",
       "      <td>8.700916</td>\n",
       "      <td>0.771421</td>\n",
       "      <td>64.806250</td>\n",
       "      <td>0.721846</td>\n",
       "      <td>0.014898</td>\n",
       "      <td>0.589778</td>\n",
       "      <td>0.530464</td>\n",
       "      <td>0.203218</td>\n",
       "      <td>0.424182</td>\n",
       "    </tr>\n",
       "    <tr>\n",
       "      <th>160</th>\n",
       "      <td>Yemen</td>\n",
       "      <td>3.912124</td>\n",
       "      <td>7.925330</td>\n",
       "      <td>0.739803</td>\n",
       "      <td>58.309167</td>\n",
       "      <td>0.622404</td>\n",
       "      <td>-0.118913</td>\n",
       "      <td>0.618624</td>\n",
       "      <td>0.458260</td>\n",
       "      <td>0.293548</td>\n",
       "      <td>0.361886</td>\n",
       "    </tr>\n",
       "    <tr>\n",
       "      <th>161</th>\n",
       "      <td>Zambia</td>\n",
       "      <td>4.453841</td>\n",
       "      <td>8.066699</td>\n",
       "      <td>0.729828</td>\n",
       "      <td>51.535000</td>\n",
       "      <td>0.761771</td>\n",
       "      <td>0.022134</td>\n",
       "      <td>0.828492</td>\n",
       "      <td>0.678728</td>\n",
       "      <td>0.297978</td>\n",
       "      <td>0.572063</td>\n",
       "    </tr>\n",
       "    <tr>\n",
       "      <th>162</th>\n",
       "      <td>Zimbabwe</td>\n",
       "      <td>3.837182</td>\n",
       "      <td>8.086318</td>\n",
       "      <td>0.792329</td>\n",
       "      <td>48.448437</td>\n",
       "      <td>0.592836</td>\n",
       "      <td>-0.100058</td>\n",
       "      <td>0.838707</td>\n",
       "      <td>0.651847</td>\n",
       "      <td>0.225499</td>\n",
       "      <td>0.476866</td>\n",
       "    </tr>\n",
       "  </tbody>\n",
       "</table>\n",
       "<p>163 rows × 11 columns</p>\n",
       "</div>"
      ],
      "text/plain": [
       "    Country name  Happiness_ranking  Log GDP per capita  Social support  \\\n",
       "0    Afghanistan           3.505506            6.999711        0.504086   \n",
       "1        Albania           5.036288            9.378583        0.715285   \n",
       "2        Algeria           5.377251            9.334042        0.733343   \n",
       "3         Angola           4.420299            8.989725        0.737973   \n",
       "4      Argentina           6.285048           10.031485        0.903041   \n",
       "..           ...                ...                 ...             ...   \n",
       "158    Venezuela           5.962723            7.515371        0.903985   \n",
       "159      Vietnam           5.330300            8.700916        0.771421   \n",
       "160        Yemen           3.912124            7.925330        0.739803   \n",
       "161       Zambia           4.453841            8.066699        0.729828   \n",
       "162     Zimbabwe           3.837182            8.086318        0.792329   \n",
       "\n",
       "     Healthy life expectancy at birth  Freedom to make life choices  \\\n",
       "0                           52.353846                      0.508496   \n",
       "1                           68.457500                      0.674589   \n",
       "2                           66.080000                      0.424643   \n",
       "3                           52.150001                      0.455957   \n",
       "4                           66.628125                      0.771455   \n",
       "..                                ...                           ...   \n",
       "158                         64.987813                      0.661967   \n",
       "159                         64.806250                      0.721846   \n",
       "160                         58.309167                      0.622404   \n",
       "161                         51.535000                      0.761771   \n",
       "162                         48.448437                      0.592836   \n",
       "\n",
       "     Generosity  Perceptions of corruption  Positive affect  Negative affect  \\\n",
       "0      0.069534                   0.851207         0.450821         0.348225   \n",
       "1     -0.073345                   0.871272         0.558089         0.296007   \n",
       "2     -0.110925                   0.558139         0.482105         0.240385   \n",
       "3     -0.088896                   0.867018         0.625734         0.351173   \n",
       "4     -0.152174                   0.840388         0.739983         0.287840   \n",
       "..          ...                        ...              ...              ...   \n",
       "158   -0.078452                   0.797000         0.776460         0.268086   \n",
       "159    0.014898                   0.589778         0.530464         0.203218   \n",
       "160   -0.118913                   0.618624         0.458260         0.293548   \n",
       "161    0.022134                   0.828492         0.678728         0.297978   \n",
       "162   -0.100058                   0.838707         0.651847         0.225499   \n",
       "\n",
       "     Confidence in national government  \n",
       "0                             0.382015  \n",
       "1                             0.320455  \n",
       "2                             0.000000  \n",
       "3                             0.397389  \n",
       "4                             0.381224  \n",
       "..                                 ...  \n",
       "158                           0.371462  \n",
       "159                           0.424182  \n",
       "160                           0.361886  \n",
       "161                           0.572063  \n",
       "162                           0.476866  \n",
       "\n",
       "[163 rows x 11 columns]"
      ]
     },
     "execution_count": 46,
     "metadata": {},
     "output_type": "execute_result"
    }
   ],
   "source": [
    "#Grouping the dataset by Country name and calculate the Mean\n",
    "data_model = world_happiness.groupby(by= 'Country name')['Happiness_ranking', 'Log GDP per capita','Social support', 'Healthy life expectancy at birth','Freedom to make life choices',\\\n",
    "                        'Generosity','Perceptions of corruption', 'Positive affect', 'Negative affect','Confidence in national government'].mean().reset_index()\n",
    "data_model"
   ]
  },
  {
   "cell_type": "code",
   "execution_count": 47,
   "metadata": {},
   "outputs": [],
   "source": [
    "#Creating the table model\n",
    "\n",
    "# Creating the independent and depend variables\n",
    "y = data_model['Happiness_ranking']\n",
    "X = data_model[['Log GDP per capita','Social support', 'Healthy life expectancy at birth','Freedom to make life choices',\\\n",
    "               'Generosity' ,'Perceptions of corruption','Positive affect', 'Negative affect','Confidence in national government']]\n",
    "\n",
    "# Splitting the data into train and test data\n",
    "X_train, X_test, y_train, y_test = train_test_split(X, y, test_size=0.7, random_state=1)"
   ]
  },
  {
   "cell_type": "code",
   "execution_count": 48,
   "metadata": {},
   "outputs": [
    {
     "data": {
      "text/plain": [
       "115"
      ]
     },
     "execution_count": 48,
     "metadata": {},
     "output_type": "execute_result"
    }
   ],
   "source": [
    "y_test.count()"
   ]
  },
  {
   "cell_type": "code",
   "execution_count": 49,
   "metadata": {},
   "outputs": [],
   "source": [
    "# Creating a predefined function to test the models\n",
    "def modelfit(model):\n",
    "   model.fit(X_train, y_train)\n",
    "   preds = model.predict(X_test)\n",
    "   mae = metrics.mean_absolute_error(y_test, preds)\n",
    "   return (round(mae,4))"
   ]
  },
  {
   "cell_type": "code",
   "execution_count": 50,
   "metadata": {},
   "outputs": [
    {
     "data": {
      "text/html": [
       "<div>\n",
       "<style scoped>\n",
       "    .dataframe tbody tr th:only-of-type {\n",
       "        vertical-align: middle;\n",
       "    }\n",
       "\n",
       "    .dataframe tbody tr th {\n",
       "        vertical-align: top;\n",
       "    }\n",
       "\n",
       "    .dataframe thead th {\n",
       "        text-align: right;\n",
       "    }\n",
       "</style>\n",
       "<table border=\"1\" class=\"dataframe\">\n",
       "  <thead>\n",
       "    <tr style=\"text-align: right;\">\n",
       "      <th></th>\n",
       "      <th>Model</th>\n",
       "      <th>MAE</th>\n",
       "    </tr>\n",
       "  </thead>\n",
       "  <tbody>\n",
       "    <tr>\n",
       "      <th>0</th>\n",
       "      <td>Linear Regression</td>\n",
       "      <td>0.4354</td>\n",
       "    </tr>\n",
       "    <tr>\n",
       "      <th>1</th>\n",
       "      <td>Random Forest Regressor</td>\n",
       "      <td>0.3280</td>\n",
       "    </tr>\n",
       "    <tr>\n",
       "      <th>2</th>\n",
       "      <td>XGBoost</td>\n",
       "      <td>0.3620</td>\n",
       "    </tr>\n",
       "    <tr>\n",
       "      <th>3</th>\n",
       "      <td>Decision Tree</td>\n",
       "      <td>0.4749</td>\n",
       "    </tr>\n",
       "    <tr>\n",
       "      <th>4</th>\n",
       "      <td>Bayesian Linear Model</td>\n",
       "      <td>0.4179</td>\n",
       "    </tr>\n",
       "  </tbody>\n",
       "</table>\n",
       "</div>"
      ],
      "text/plain": [
       "                     Model     MAE\n",
       "0        Linear Regression  0.4354\n",
       "1  Random Forest Regressor  0.3280\n",
       "2                  XGBoost  0.3620\n",
       "3            Decision Tree  0.4749\n",
       "4    Bayesian Linear Model  0.4179"
      ]
     },
     "execution_count": 50,
     "metadata": {},
     "output_type": "execute_result"
    }
   ],
   "source": [
    "#Linear Regression\n",
    "lm = LinearRegression(n_jobs = 10000)\n",
    "model1=('Linear Regression', modelfit(lm))\n",
    "\n",
    "# Random Forest Regressor\n",
    "rf = RandomForestRegressor()\n",
    "model2=('Random Forest Regressor', modelfit(rf))\n",
    "\n",
    "# XGBoost\n",
    "xg = XGBRegressor(learning_rate=0.1, n_estimators=5000)\n",
    "model3=('XGBoost',modelfit(xg))\n",
    "\n",
    "# Decision Tree\n",
    "dt = DecisionTreeRegressor()\n",
    "model4= ('Decision Tree', modelfit(dt))\n",
    "\n",
    "# Bayesian Linear Model\n",
    "br = BayesianRidge(n_iter=1000, tol = 0.5)\n",
    "model5=('Bayesian Linear Model', modelfit(br))\n",
    "\n",
    "#Create a DataFrame with Models\n",
    "models = pd.DataFrame(data= [model1, model2, model3, model4, model5], columns=['Model', 'MAE'])\n",
    "models"
   ]
  },
  {
   "cell_type": "markdown",
   "metadata": {},
   "source": [
    "### XGBRegressor Model"
   ]
  },
  {
   "cell_type": "code",
   "execution_count": 51,
   "metadata": {},
   "outputs": [
    {
     "name": "stdout",
     "output_type": "stream",
     "text": [
      "[13:54:08] WARNING: /Users/runner/work/xgboost/xgboost/python-package/build/temp.macosx-10.9-x86_64-cpython-37/xgboost/src/objective/regression_obj.cu:203: reg:linear is now deprecated in favor of reg:squarederror.\n"
     ]
    },
    {
     "data": {
      "text/plain": [
       "array([5.809531 , 4.598067 , 4.573328 , 6.66137  , 4.4436207, 5.339028 ,\n",
       "       5.6887484, 5.15169  , 4.3821282, 4.068949 , 5.3977675, 4.8752093,\n",
       "       4.10824  , 5.5540915, 4.8893824, 5.6385584, 4.360864 , 7.2315907,\n",
       "       4.5256715, 5.6530395, 4.9400334, 5.3267527, 7.230801 , 4.264135 ,\n",
       "       6.451656 , 4.83888  , 4.605018 , 7.084248 , 5.5855846, 4.982052 ,\n",
       "       4.445378 , 6.726093 , 4.660011 , 4.3983774, 4.7581854, 6.1741524,\n",
       "       5.0910664, 4.4441657, 5.7617197, 5.5554132, 4.981799 , 4.365449 ,\n",
       "       4.3350563, 6.6209455, 5.193304 , 4.575743 , 6.530115 , 6.792422 ,\n",
       "       5.3949156, 5.440089 , 6.638213 , 5.887145 , 6.2753897, 6.2319603,\n",
       "       4.678972 , 4.5197906, 4.47003  , 6.0445685, 5.5681505, 4.6956487,\n",
       "       7.4177885, 5.7916555, 6.417821 , 6.227505 , 6.432721 , 4.853442 ,\n",
       "       7.269083 , 4.751603 , 5.389644 , 4.6883802, 6.13329  , 4.747873 ,\n",
       "       4.55097  , 6.378684 , 7.0834584, 4.0988846, 5.261743 , 4.674678 ,\n",
       "       5.0720596, 5.855298 , 4.0743127, 5.7382226, 5.523581 , 5.861725 ,\n",
       "       4.891435 , 6.5630283, 4.554588 , 5.199498 , 6.802753 , 4.258039 ,\n",
       "       6.628826 , 4.639207 , 4.637958 , 6.240912 , 4.3743577, 5.7631   ,\n",
       "       4.4723616, 4.24702  , 4.5376987, 4.3592963, 6.6435275, 6.0073714,\n",
       "       5.7478065, 5.989164 , 4.586692 , 6.9209914, 5.2660275, 4.3269596,\n",
       "       6.0580063, 4.575465 , 4.768197 , 4.7546315, 4.7813945, 4.94161  ,\n",
       "       5.188444 ], dtype=float32)"
      ]
     },
     "execution_count": 51,
     "metadata": {},
     "output_type": "execute_result"
    }
   ],
   "source": [
    "xg_reg_model = xgb.XGBRegressor(objective ='reg:linear', learning_rate = 0.1, n_estimators=5000)\n",
    "xg_reg_model.fit(X_train, y_train)\n",
    "xg_predictions = xg_reg_model.predict(X_test)\n",
    "xg_predictions"
   ]
  },
  {
   "cell_type": "code",
   "execution_count": 52,
   "metadata": {},
   "outputs": [
    {
     "data": {
      "text/plain": [
       "0.7864640652856381"
      ]
     },
     "execution_count": 52,
     "metadata": {},
     "output_type": "execute_result"
    }
   ],
   "source": [
    "r2_score(y_test, xg_predictions)"
   ]
  },
  {
   "cell_type": "markdown",
   "metadata": {},
   "source": [
    "### RandomForestRegressor Model"
   ]
  },
  {
   "cell_type": "code",
   "execution_count": 53,
   "metadata": {},
   "outputs": [
    {
     "data": {
      "text/plain": [
       "array([5.37488244, 4.38540537, 4.83754314, 6.37790757, 4.32917301,\n",
       "       5.32746162, 5.54137731, 5.63897788, 4.8462724 , 4.38049118,\n",
       "       5.25648517, 4.86604705, 4.21357531, 5.35493702, 4.9502974 ,\n",
       "       5.58455002, 4.32813119, 7.35951272, 4.55817506, 5.97873236,\n",
       "       4.77705429, 5.25595275, 7.32083888, 4.41594246, 6.41277757,\n",
       "       4.67467086, 4.64641273, 7.22288798, 6.179403  , 4.95687167,\n",
       "       4.38379219, 6.85979037, 4.81263061, 4.27234766, 5.09661456,\n",
       "       5.76198138, 5.18112766, 4.63139901, 6.10368427, 5.70707813,\n",
       "       5.0625777 , 4.38265867, 4.38906198, 6.42757919, 5.95606142,\n",
       "       4.73610103, 6.37531275, 6.85586707, 5.3275135 , 5.48714409,\n",
       "       6.14527228, 5.43959347, 6.16148731, 6.17646665, 5.17446222,\n",
       "       4.62529562, 4.4190945 , 5.3750108 , 5.67363493, 5.04326052,\n",
       "       7.22481143, 5.6797857 , 6.18638674, 6.39353935, 6.25277906,\n",
       "       5.27964522, 6.71692924, 4.59598474, 5.31477189, 4.59767152,\n",
       "       5.94558957, 4.94872208, 4.78499782, 6.63180779, 7.21107654,\n",
       "       4.03544947, 5.45646454, 4.720931  , 5.26692432, 5.92122952,\n",
       "       4.11671801, 6.01348731, 5.15081161, 5.87260337, 5.12493154,\n",
       "       6.4004109 , 4.59056972, 5.21840452, 7.16386193, 4.58213489,\n",
       "       6.45853867, 4.66187181, 4.82514577, 6.20755611, 4.53581971,\n",
       "       5.57817539, 4.63565134, 4.25414597, 4.55318676, 4.47245583,\n",
       "       6.18009431, 6.07563169, 5.66084598, 5.75537256, 4.60653866,\n",
       "       7.15545132, 5.12418694, 4.93526994, 6.14130884, 4.71114242,\n",
       "       4.86096929, 5.08412035, 5.29198121, 5.01453279, 5.05876403])"
      ]
     },
     "execution_count": 53,
     "metadata": {},
     "output_type": "execute_result"
    }
   ],
   "source": [
    "# Create a random forest regresor.\n",
    "rf_model = RandomForestRegressor(n_estimators=128, random_state=78) \n",
    "rf_model = rf_model.fit(X_train, y_train)\n",
    "rf_predictions= rf_model.predict(X_test)\n",
    "rf_predictions"
   ]
  },
  {
   "cell_type": "code",
   "execution_count": 54,
   "metadata": {},
   "outputs": [
    {
     "data": {
      "text/plain": [
       "0.821484569798011"
      ]
     },
     "execution_count": 54,
     "metadata": {},
     "output_type": "execute_result"
    }
   ],
   "source": [
    "r2_score(y_test, rf_predictions)"
   ]
  },
  {
   "cell_type": "markdown",
   "metadata": {},
   "source": [
    "### Correlation Matrix"
   ]
  },
  {
   "cell_type": "code",
   "execution_count": 59,
   "metadata": {},
   "outputs": [
    {
     "name": "stderr",
     "output_type": "stream",
     "text": [
      "/var/folders/zq/rwx6mtq50yd_vfcnh_qt_z580000gn/T/ipykernel_47300/3592700132.py:9: DeprecationWarning: `np.bool` is a deprecated alias for the builtin `bool`. To silence this warning, use `bool` by itself. Doing this will not modify any behavior and is safe. If you specifically wanted the numpy scalar type, use `np.bool_` here.\n",
      "Deprecated in NumPy 1.20; for more details and guidance: https://numpy.org/devdocs/release/1.20.0-notes.html#deprecations\n",
      "  mask = np.triu(np.ones_like(corr, dtype=np.bool))\n"
     ]
    },
    {
     "data": {
      "text/plain": [
       "(array([0.5, 1.5, 2.5, 3.5, 4.5, 5.5, 6.5, 7.5, 8.5, 9.5]),\n",
       " [Text(0, 0.5, 'Happiness_ranking'),\n",
       "  Text(0, 1.5, 'Log GDP per capita'),\n",
       "  Text(0, 2.5, 'Social support'),\n",
       "  Text(0, 3.5, 'Healthy life expectancy at birth'),\n",
       "  Text(0, 4.5, 'Freedom to make life choices'),\n",
       "  Text(0, 5.5, 'Generosity'),\n",
       "  Text(0, 6.5, 'Perceptions of corruption'),\n",
       "  Text(0, 7.5, 'Positive affect'),\n",
       "  Text(0, 8.5, 'Negative affect'),\n",
       "  Text(0, 9.5, 'Confidence in national government')])"
      ]
     },
     "execution_count": 59,
     "metadata": {},
     "output_type": "execute_result"
    },
    {
     "data": {
      "image/png": "[encoded data removed]",
      "text/plain": [
       "<Figure size 900x900 with 2 Axes>"
      ]
     },
     "metadata": {},
     "output_type": "display_data"
    }
   ],
   "source": [
    "# Computing the Correlation Matrix\n",
    "\n",
    "sns.set_style('whitegrid')\n",
    "sns.set_palette('Set2')\n",
    "\n",
    "corr = data_model.corr().round(2)\n",
    "\n",
    "# Generate a mask for the upper triangle\n",
    "mask = np.triu(np.ones_like(corr, dtype=np.bool))\n",
    "\n",
    "# Set up the matplotlib figure\n",
    "f, ax = plt.subplots(figsize=(9, 9))\n",
    "\n",
    "# Generate a custom diverging colormap\n",
    "cmap = sns.diverging_palette(0, 25, as_cmap=True, s = 90, l = 45, n = 5)\n",
    "\n",
    "# Draw the heatmap with the mask and correct aspect ratio\n",
    "sns.heatmap(corr, annot=True, mask=mask, cmap=cmap, vmax=.3, center=0,\n",
    "            square=True, linewidths=.5, cbar_kws={\"shrink\": .5})\n",
    "\n",
    "plt.title('What influences our happiness?', fontsize = 25)\n",
    "plt.xticks(fontsize = 15)\n",
    "plt.yticks(fontsize = 15)\n"
   ]
  },
  {
   "cell_type": "markdown",
   "metadata": {},
   "source": [
    "### Pearson Correlation"
   ]
  },
  {
   "cell_type": "code",
   "execution_count": 56,
   "metadata": {},
   "outputs": [
    {
     "name": "stdout",
     "output_type": "stream",
     "text": [
      "Happiness Score + GDP: pearson = 0.66    pvalue =  0.0\n",
      "Happiness Score + Social Support: pearson = 0.6    pvalue =  0.0\n",
      "Happiness Score + Health: pearson = 0.4    pvalue =  0.0\n",
      "Happiness Score + Freedom: pearson = 0.44    pvalue =  0.0\n",
      "Happiness Score + Generosity: pearson = 0.18    pvalue =  0.0\n",
      "Happiness Score + Positive Affect: pearson = 0.43    pvalue =  0.0\n",
      "Happiness Score + Negative Affect = 0.43    pvalue =  0.0\n",
      "Happiness Score + Trust: pearson = 0.43    pvalue =  0.0\n"
     ]
    }
   ],
   "source": [
    "# Calculating the Pearson Correlation\n",
    "from decimal import Decimal\n",
    "\n",
    "c1 = scipy.stats.pearsonr(world_happiness['Happiness_ranking'],world_happiness['Log GDP per capita'])\n",
    "c2 = scipy.stats.pearsonr(world_happiness['Happiness_ranking'], world_happiness['Social support'])\n",
    "c3 = scipy.stats.pearsonr(world_happiness['Happiness_ranking'], world_happiness['Healthy life expectancy at birth'])\n",
    "c4 = scipy.stats.pearsonr(world_happiness['Happiness_ranking'], world_happiness['Freedom to make life choices'])\n",
    "c5 = scipy.stats.pearsonr(world_happiness['Happiness_ranking'], world_happiness['Generosity'])\n",
    "c6 = scipy.stats.pearsonr(world_happiness['Happiness_ranking'], world_happiness['Positive affect'])\n",
    "c7 = scipy.stats.pearsonr(world_happiness['Happiness_ranking'], world_happiness['Negative affect'])\n",
    "c8 = scipy.stats.pearsonr(world_happiness['Happiness_ranking'], world_happiness['Confidence in national government'])\n",
    "\n",
    "\n",
    "print('Happiness Score + GDP: pearson =', round(c1[0],2), '   pvalue = ', round(c1[1],4))\n",
    "print('Happiness Score + Social Support: pearson =', round(c2[0],2), '   pvalue = ', round(c2[1],4))\n",
    "print('Happiness Score + Health: pearson =', round(c3[0],2), '   pvalue = ', round(c3[1],4))\n",
    "print('Happiness Score + Freedom: pearson =', round(c4[0],2), '   pvalue = ', round(c4[1],4))\n",
    "print('Happiness Score + Generosity: pearson =', round(c5[0],2), '   pvalue = ', round(c5[1],4))\n",
    "print('Happiness Score + Positive Affect: pearson =', round(c6[0],2), '   pvalue = ', round(c6[1],4))\n",
    "print('Happiness Score + Negative Affect =', round(c6[0],2), '   pvalue = ', round(c6[1],4))\n",
    "print('Happiness Score + Trust: pearson =', round(c6[0],2), '   pvalue = ', round(c6[1],4))"
   ]
  }
 ],
 "metadata": {
  "kernelspec": {
   "display_name": "Python 3.8.13 ('MachineLenv')",
   "language": "python",
   "name": "python3"
  },
  "language_info": {
   "codemirror_mode": {
    "name": "ipython",
    "version": 3
   },
   "file_extension": ".py",
   "mimetype": "text/x-python",
   "name": "python",
   "nbconvert_exporter": "python",
   "pygments_lexer": "ipython3",
   "version": "3.8.13"
  },
  "orig_nbformat": 4,
  "vscode": {
   "interpreter": {
    "hash": "13304beb2c282d717f5d25cf0d690d6947ba3f099f2ef1bb284aaacf82218492"
   }
  }
 },
 "nbformat": 4,
 "nbformat_minor": 2
}
