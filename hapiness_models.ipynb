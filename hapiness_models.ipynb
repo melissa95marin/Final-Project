{
 "cells": [
  {
   "cell_type": "code",
   "execution_count": 199,
   "metadata": {},
   "outputs": [],
   "source": [
    "import pandas as pd\n",
    "import numpy as np\n",
    "# Importing the libraries\n",
    "from sklearn.model_selection import train_test_split # for data validation\n",
    "\n",
    "# Models\n",
    "from sklearn.linear_model import LinearRegression, BayesianRidge, LassoLars\n",
    "from sklearn.ensemble import RandomForestRegressor\n",
    "from sklearn.tree import DecisionTreeRegressor\n",
    "import xgboost as xgb\n",
    "from xgboost import XGBRegressor\n",
    "\n",
    "# Metrics and Grid Search\n",
    "from sklearn import model_selection, metrics\n",
    "from sklearn.model_selection import GridSearchCV\n",
    "from sklearn.metrics import explained_variance_score, confusion_matrix, accuracy_score, classification_report, r2_score"
   ]
  },
  {
   "cell_type": "code",
   "execution_count": 164,
   "metadata": {},
   "outputs": [
    {
     "data": {
      "text/html": [
       "<div>\n",
       "<style scoped>\n",
       "    .dataframe tbody tr th:only-of-type {\n",
       "        vertical-align: middle;\n",
       "    }\n",
       "\n",
       "    .dataframe tbody tr th {\n",
       "        vertical-align: top;\n",
       "    }\n",
       "\n",
       "    .dataframe thead th {\n",
       "        text-align: right;\n",
       "    }\n",
       "</style>\n",
       "<table border=\"1\" class=\"dataframe\">\n",
       "  <thead>\n",
       "    <tr style=\"text-align: right;\">\n",
       "      <th></th>\n",
       "      <th>Country name</th>\n",
       "      <th>year</th>\n",
       "      <th>Life Ladder</th>\n",
       "      <th>Log GDP per capita</th>\n",
       "      <th>Social support</th>\n",
       "      <th>Healthy life expectancy at birth</th>\n",
       "      <th>Freedom to make life choices</th>\n",
       "      <th>Generosity</th>\n",
       "      <th>Perceptions of corruption</th>\n",
       "      <th>Positive affect</th>\n",
       "      <th>Negative affect</th>\n",
       "      <th>Confidence in national government</th>\n",
       "    </tr>\n",
       "  </thead>\n",
       "  <tbody>\n",
       "    <tr>\n",
       "      <th>0</th>\n",
       "      <td>Afghanistan</td>\n",
       "      <td>2008</td>\n",
       "      <td>3.723590</td>\n",
       "      <td>7.302574</td>\n",
       "      <td>0.450662</td>\n",
       "      <td>50.500000</td>\n",
       "      <td>0.718114</td>\n",
       "      <td>0.173169</td>\n",
       "      <td>0.881686</td>\n",
       "      <td>0.414297</td>\n",
       "      <td>0.258195</td>\n",
       "      <td>0.612072</td>\n",
       "    </tr>\n",
       "    <tr>\n",
       "      <th>1</th>\n",
       "      <td>Afghanistan</td>\n",
       "      <td>2009</td>\n",
       "      <td>4.401778</td>\n",
       "      <td>7.472446</td>\n",
       "      <td>0.552308</td>\n",
       "      <td>50.799999</td>\n",
       "      <td>0.678896</td>\n",
       "      <td>0.195469</td>\n",
       "      <td>0.850035</td>\n",
       "      <td>0.481421</td>\n",
       "      <td>0.237092</td>\n",
       "      <td>0.611545</td>\n",
       "    </tr>\n",
       "    <tr>\n",
       "      <th>2</th>\n",
       "      <td>Afghanistan</td>\n",
       "      <td>2010</td>\n",
       "      <td>4.758381</td>\n",
       "      <td>7.579183</td>\n",
       "      <td>0.539075</td>\n",
       "      <td>51.099998</td>\n",
       "      <td>0.600127</td>\n",
       "      <td>0.125859</td>\n",
       "      <td>0.706766</td>\n",
       "      <td>0.516907</td>\n",
       "      <td>0.275324</td>\n",
       "      <td>0.299357</td>\n",
       "    </tr>\n",
       "    <tr>\n",
       "      <th>3</th>\n",
       "      <td>Afghanistan</td>\n",
       "      <td>2011</td>\n",
       "      <td>3.831719</td>\n",
       "      <td>7.552006</td>\n",
       "      <td>0.521104</td>\n",
       "      <td>51.400002</td>\n",
       "      <td>0.495901</td>\n",
       "      <td>0.167723</td>\n",
       "      <td>0.731109</td>\n",
       "      <td>0.479835</td>\n",
       "      <td>0.267175</td>\n",
       "      <td>0.307386</td>\n",
       "    </tr>\n",
       "    <tr>\n",
       "      <th>4</th>\n",
       "      <td>Afghanistan</td>\n",
       "      <td>2012</td>\n",
       "      <td>3.782938</td>\n",
       "      <td>7.637953</td>\n",
       "      <td>0.520637</td>\n",
       "      <td>51.700001</td>\n",
       "      <td>0.530935</td>\n",
       "      <td>0.241247</td>\n",
       "      <td>0.775620</td>\n",
       "      <td>0.613513</td>\n",
       "      <td>0.267919</td>\n",
       "      <td>0.435440</td>\n",
       "    </tr>\n",
       "  </tbody>\n",
       "</table>\n",
       "</div>"
      ],
      "text/plain": [
       "  Country name  year  Life Ladder  Log GDP per capita  Social support  \\\n",
       "0  Afghanistan  2008     3.723590            7.302574        0.450662   \n",
       "1  Afghanistan  2009     4.401778            7.472446        0.552308   \n",
       "2  Afghanistan  2010     4.758381            7.579183        0.539075   \n",
       "3  Afghanistan  2011     3.831719            7.552006        0.521104   \n",
       "4  Afghanistan  2012     3.782938            7.637953        0.520637   \n",
       "\n",
       "   Healthy life expectancy at birth  Freedom to make life choices  Generosity  \\\n",
       "0                         50.500000                      0.718114    0.173169   \n",
       "1                         50.799999                      0.678896    0.195469   \n",
       "2                         51.099998                      0.600127    0.125859   \n",
       "3                         51.400002                      0.495901    0.167723   \n",
       "4                         51.700001                      0.530935    0.241247   \n",
       "\n",
       "   Perceptions of corruption  Positive affect  Negative affect  \\\n",
       "0                   0.881686         0.414297         0.258195   \n",
       "1                   0.850035         0.481421         0.237092   \n",
       "2                   0.706766         0.516907         0.275324   \n",
       "3                   0.731109         0.479835         0.267175   \n",
       "4                   0.775620         0.613513         0.267919   \n",
       "\n",
       "   Confidence in national government  \n",
       "0                           0.612072  \n",
       "1                           0.611545  \n",
       "2                           0.299357  \n",
       "3                           0.307386  \n",
       "4                           0.435440  "
      ]
     },
     "execution_count": 164,
     "metadata": {},
     "output_type": "execute_result"
    }
   ],
   "source": [
    "hapiness_df= pd.read_csv('Resources/hapiness_data.csv')\n",
    "hapiness_df.head()"
   ]
  },
  {
   "cell_type": "code",
   "execution_count": 146,
   "metadata": {},
   "outputs": [
    {
     "data": {
      "text/plain": [
       "579"
      ]
     },
     "execution_count": 146,
     "metadata": {},
     "output_type": "execute_result"
    }
   ],
   "source": [
    "#Check how many missing values there are in the dataset\n",
    "hapiness_df.isnull().sum().sum()"
   ]
  },
  {
   "cell_type": "code",
   "execution_count": 147,
   "metadata": {},
   "outputs": [],
   "source": [
    "# Drop null values\n",
    "#hapiness_df=hapiness_df.dropna()\n",
    "hapiness_df= hapiness_df.reindex()"
   ]
  },
  {
   "cell_type": "code",
   "execution_count": 148,
   "metadata": {},
   "outputs": [
    {
     "data": {
      "text/plain": [
       "(1747, 12)"
      ]
     },
     "execution_count": 148,
     "metadata": {},
     "output_type": "execute_result"
    }
   ],
   "source": [
    "hapiness_df.shape"
   ]
  },
  {
   "cell_type": "code",
   "execution_count": 149,
   "metadata": {},
   "outputs": [
    {
     "name": "stderr",
     "output_type": "stream",
     "text": [
      "/var/folders/zq/rwx6mtq50yd_vfcnh_qt_z580000gn/T/ipykernel_22931/2037106933.py:2: FutureWarning: Indexing with multiple keys (implicitly converted to a tuple of keys) will be deprecated, use a list instead.\n",
      "  data_model = hapiness_df.groupby(by= 'Country name')['Life Ladder', 'Log GDP per capita','Social support', 'Healthy life expectancy at birth','Freedom to make life choices','Generosity','Perceptions of corruption', 'Positive affect', 'Negative affect','Confidence in national government'].mean().reset_index()\n"
     ]
    },
    {
     "data": {
      "text/html": [
       "<div>\n",
       "<style scoped>\n",
       "    .dataframe tbody tr th:only-of-type {\n",
       "        vertical-align: middle;\n",
       "    }\n",
       "\n",
       "    .dataframe tbody tr th {\n",
       "        vertical-align: top;\n",
       "    }\n",
       "\n",
       "    .dataframe thead th {\n",
       "        text-align: right;\n",
       "    }\n",
       "</style>\n",
       "<table border=\"1\" class=\"dataframe\">\n",
       "  <thead>\n",
       "    <tr style=\"text-align: right;\">\n",
       "      <th></th>\n",
       "      <th>Country name</th>\n",
       "      <th>Life Ladder</th>\n",
       "      <th>Log GDP per capita</th>\n",
       "      <th>Social support</th>\n",
       "      <th>Healthy life expectancy at birth</th>\n",
       "      <th>Freedom to make life choices</th>\n",
       "      <th>Generosity</th>\n",
       "      <th>Perceptions of corruption</th>\n",
       "      <th>Positive affect</th>\n",
       "      <th>Negative affect</th>\n",
       "      <th>Confidence in national government</th>\n",
       "    </tr>\n",
       "  </thead>\n",
       "  <tbody>\n",
       "    <tr>\n",
       "      <th>0</th>\n",
       "      <td>Afghanistan</td>\n",
       "      <td>3.594628</td>\n",
       "      <td>7.583020</td>\n",
       "      <td>0.508245</td>\n",
       "      <td>52.170833</td>\n",
       "      <td>0.518012</td>\n",
       "      <td>0.075328</td>\n",
       "      <td>0.843283</td>\n",
       "      <td>0.473482</td>\n",
       "      <td>0.326684</td>\n",
       "      <td>0.392547</td>\n",
       "    </tr>\n",
       "    <tr>\n",
       "      <th>1</th>\n",
       "      <td>Albania</td>\n",
       "      <td>4.898745</td>\n",
       "      <td>9.405987</td>\n",
       "      <td>0.698942</td>\n",
       "      <td>68.691365</td>\n",
       "      <td>0.714779</td>\n",
       "      <td>-0.044853</td>\n",
       "      <td>0.884626</td>\n",
       "      <td>0.555175</td>\n",
       "      <td>0.300746</td>\n",
       "      <td>0.407852</td>\n",
       "    </tr>\n",
       "    <tr>\n",
       "      <th>2</th>\n",
       "      <td>Angola</td>\n",
       "      <td>4.420299</td>\n",
       "      <td>8.989725</td>\n",
       "      <td>0.737973</td>\n",
       "      <td>52.150001</td>\n",
       "      <td>0.455957</td>\n",
       "      <td>-0.088896</td>\n",
       "      <td>0.867018</td>\n",
       "      <td>0.625734</td>\n",
       "      <td>0.351173</td>\n",
       "      <td>0.397389</td>\n",
       "    </tr>\n",
       "    <tr>\n",
       "      <th>3</th>\n",
       "      <td>Argentina</td>\n",
       "      <td>6.285048</td>\n",
       "      <td>10.031485</td>\n",
       "      <td>0.903041</td>\n",
       "      <td>66.628125</td>\n",
       "      <td>0.771455</td>\n",
       "      <td>-0.152174</td>\n",
       "      <td>0.840388</td>\n",
       "      <td>0.739983</td>\n",
       "      <td>0.287840</td>\n",
       "      <td>0.381224</td>\n",
       "    </tr>\n",
       "    <tr>\n",
       "      <th>4</th>\n",
       "      <td>Armenia</td>\n",
       "      <td>4.566087</td>\n",
       "      <td>9.285748</td>\n",
       "      <td>0.721515</td>\n",
       "      <td>65.573333</td>\n",
       "      <td>0.579216</td>\n",
       "      <td>-0.197553</td>\n",
       "      <td>0.837074</td>\n",
       "      <td>0.495732</td>\n",
       "      <td>0.437056</td>\n",
       "      <td>0.349403</td>\n",
       "    </tr>\n",
       "    <tr>\n",
       "      <th>...</th>\n",
       "      <td>...</td>\n",
       "      <td>...</td>\n",
       "      <td>...</td>\n",
       "      <td>...</td>\n",
       "      <td>...</td>\n",
       "      <td>...</td>\n",
       "      <td>...</td>\n",
       "      <td>...</td>\n",
       "      <td>...</td>\n",
       "      <td>...</td>\n",
       "      <td>...</td>\n",
       "    </tr>\n",
       "    <tr>\n",
       "      <th>144</th>\n",
       "      <td>Venezuela</td>\n",
       "      <td>6.042505</td>\n",
       "      <td>8.533054</td>\n",
       "      <td>0.914680</td>\n",
       "      <td>65.079231</td>\n",
       "      <td>0.657372</td>\n",
       "      <td>-0.096557</td>\n",
       "      <td>0.799767</td>\n",
       "      <td>0.787192</td>\n",
       "      <td>0.251597</td>\n",
       "      <td>0.386531</td>\n",
       "    </tr>\n",
       "    <tr>\n",
       "      <th>145</th>\n",
       "      <td>Vietnam</td>\n",
       "      <td>5.400847</td>\n",
       "      <td>8.556147</td>\n",
       "      <td>0.806390</td>\n",
       "      <td>64.540000</td>\n",
       "      <td>0.858053</td>\n",
       "      <td>0.016298</td>\n",
       "      <td>0.783006</td>\n",
       "      <td>0.583961</td>\n",
       "      <td>0.200419</td>\n",
       "      <td>0.836712</td>\n",
       "    </tr>\n",
       "    <tr>\n",
       "      <th>146</th>\n",
       "      <td>Yemen</td>\n",
       "      <td>3.899032</td>\n",
       "      <td>8.081041</td>\n",
       "      <td>0.702208</td>\n",
       "      <td>58.420625</td>\n",
       "      <td>0.627088</td>\n",
       "      <td>-0.134543</td>\n",
       "      <td>0.828157</td>\n",
       "      <td>0.465654</td>\n",
       "      <td>0.300970</td>\n",
       "      <td>0.420266</td>\n",
       "    </tr>\n",
       "    <tr>\n",
       "      <th>147</th>\n",
       "      <td>Zambia</td>\n",
       "      <td>4.453841</td>\n",
       "      <td>8.066699</td>\n",
       "      <td>0.729828</td>\n",
       "      <td>51.535000</td>\n",
       "      <td>0.761771</td>\n",
       "      <td>0.022134</td>\n",
       "      <td>0.828492</td>\n",
       "      <td>0.678728</td>\n",
       "      <td>0.297978</td>\n",
       "      <td>0.572063</td>\n",
       "    </tr>\n",
       "    <tr>\n",
       "      <th>148</th>\n",
       "      <td>Zimbabwe</td>\n",
       "      <td>3.837182</td>\n",
       "      <td>8.086318</td>\n",
       "      <td>0.792329</td>\n",
       "      <td>48.448437</td>\n",
       "      <td>0.592836</td>\n",
       "      <td>-0.100058</td>\n",
       "      <td>0.838707</td>\n",
       "      <td>0.651847</td>\n",
       "      <td>0.225499</td>\n",
       "      <td>0.476866</td>\n",
       "    </tr>\n",
       "  </tbody>\n",
       "</table>\n",
       "<p>149 rows × 11 columns</p>\n",
       "</div>"
      ],
      "text/plain": [
       "    Country name  Life Ladder  Log GDP per capita  Social support  \\\n",
       "0    Afghanistan     3.594628            7.583020        0.508245   \n",
       "1        Albania     4.898745            9.405987        0.698942   \n",
       "2         Angola     4.420299            8.989725        0.737973   \n",
       "3      Argentina     6.285048           10.031485        0.903041   \n",
       "4        Armenia     4.566087            9.285748        0.721515   \n",
       "..           ...          ...                 ...             ...   \n",
       "144    Venezuela     6.042505            8.533054        0.914680   \n",
       "145      Vietnam     5.400847            8.556147        0.806390   \n",
       "146        Yemen     3.899032            8.081041        0.702208   \n",
       "147       Zambia     4.453841            8.066699        0.729828   \n",
       "148     Zimbabwe     3.837182            8.086318        0.792329   \n",
       "\n",
       "     Healthy life expectancy at birth  Freedom to make life choices  \\\n",
       "0                           52.170833                      0.518012   \n",
       "1                           68.691365                      0.714779   \n",
       "2                           52.150001                      0.455957   \n",
       "3                           66.628125                      0.771455   \n",
       "4                           65.573333                      0.579216   \n",
       "..                                ...                           ...   \n",
       "144                         65.079231                      0.657372   \n",
       "145                         64.540000                      0.858053   \n",
       "146                         58.420625                      0.627088   \n",
       "147                         51.535000                      0.761771   \n",
       "148                         48.448437                      0.592836   \n",
       "\n",
       "     Generosity  Perceptions of corruption  Positive affect  Negative affect  \\\n",
       "0      0.075328                   0.843283         0.473482         0.326684   \n",
       "1     -0.044853                   0.884626         0.555175         0.300746   \n",
       "2     -0.088896                   0.867018         0.625734         0.351173   \n",
       "3     -0.152174                   0.840388         0.739983         0.287840   \n",
       "4     -0.197553                   0.837074         0.495732         0.437056   \n",
       "..          ...                        ...              ...              ...   \n",
       "144   -0.096557                   0.799767         0.787192         0.251597   \n",
       "145    0.016298                   0.783006         0.583961         0.200419   \n",
       "146   -0.134543                   0.828157         0.465654         0.300970   \n",
       "147    0.022134                   0.828492         0.678728         0.297978   \n",
       "148   -0.100058                   0.838707         0.651847         0.225499   \n",
       "\n",
       "     Confidence in national government  \n",
       "0                             0.392547  \n",
       "1                             0.407852  \n",
       "2                             0.397389  \n",
       "3                             0.381224  \n",
       "4                             0.349403  \n",
       "..                                 ...  \n",
       "144                           0.386531  \n",
       "145                           0.836712  \n",
       "146                           0.420266  \n",
       "147                           0.572063  \n",
       "148                           0.476866  \n",
       "\n",
       "[149 rows x 11 columns]"
      ]
     },
     "execution_count": 149,
     "metadata": {},
     "output_type": "execute_result"
    }
   ],
   "source": [
    "#Grouping the dataset by Country name and calculate the Mean\n",
    "data_model = hapiness_df.groupby(by= 'Country name')['Life Ladder', 'Log GDP per capita','Social support', 'Healthy life expectancy at birth','Freedom to make life choices','Generosity','Perceptions of corruption', 'Positive affect', 'Negative affect','Confidence in national government'].mean().reset_index()\n",
    "data_model"
   ]
  },
  {
   "cell_type": "code",
   "execution_count": 189,
   "metadata": {},
   "outputs": [],
   "source": [
    "#Creating the table model\n",
    "\n",
    "# Creating the independent and depend variables\n",
    "y = data_model['Life Ladder']\n",
    "X = data_model[['Log GDP per capita','Social support', 'Healthy life expectancy at birth','Freedom to make life choices','Generosity' ,'Perceptions of corruption','Positive affect', 'Negative affect','Confidence in national government']]\n",
    "\n",
    "# Splitting the data into train and test data\n",
    "X_train, X_test, y_train, y_test = train_test_split(X, y, test_size=0.6, random_state=1)"
   ]
  },
  {
   "cell_type": "code",
   "execution_count": 190,
   "metadata": {},
   "outputs": [
    {
     "data": {
      "text/plain": [
       "90"
      ]
     },
     "execution_count": 190,
     "metadata": {},
     "output_type": "execute_result"
    }
   ],
   "source": [
    "y_test.count()"
   ]
  },
  {
   "cell_type": "code",
   "execution_count": 191,
   "metadata": {},
   "outputs": [],
   "source": [
    "# Creating a predefined function to test the models\n",
    "def modelfit(model):\n",
    "   model.fit(X_train, y_train)\n",
    "   preds = model.predict(X_test)\n",
    "   mae = metrics.mean_absolute_error(y_test, preds)\n",
    "   return (round(mae,4))"
   ]
  },
  {
   "cell_type": "code",
   "execution_count": 192,
   "metadata": {},
   "outputs": [
    {
     "data": {
      "text/html": [
       "<div>\n",
       "<style scoped>\n",
       "    .dataframe tbody tr th:only-of-type {\n",
       "        vertical-align: middle;\n",
       "    }\n",
       "\n",
       "    .dataframe tbody tr th {\n",
       "        vertical-align: top;\n",
       "    }\n",
       "\n",
       "    .dataframe thead th {\n",
       "        text-align: right;\n",
       "    }\n",
       "</style>\n",
       "<table border=\"1\" class=\"dataframe\">\n",
       "  <thead>\n",
       "    <tr style=\"text-align: right;\">\n",
       "      <th></th>\n",
       "      <th>Model</th>\n",
       "      <th>MAE</th>\n",
       "    </tr>\n",
       "  </thead>\n",
       "  <tbody>\n",
       "    <tr>\n",
       "      <th>0</th>\n",
       "      <td>Linear Regression</td>\n",
       "      <td>0.3906</td>\n",
       "    </tr>\n",
       "    <tr>\n",
       "      <th>1</th>\n",
       "      <td>Random Forest Regressor</td>\n",
       "      <td>0.3783</td>\n",
       "    </tr>\n",
       "    <tr>\n",
       "      <th>2</th>\n",
       "      <td>XGBoost</td>\n",
       "      <td>0.3874</td>\n",
       "    </tr>\n",
       "    <tr>\n",
       "      <th>3</th>\n",
       "      <td>Decision Tree</td>\n",
       "      <td>0.5198</td>\n",
       "    </tr>\n",
       "    <tr>\n",
       "      <th>4</th>\n",
       "      <td>Bayesian Linear Model</td>\n",
       "      <td>0.4194</td>\n",
       "    </tr>\n",
       "  </tbody>\n",
       "</table>\n",
       "</div>"
      ],
      "text/plain": [
       "                     Model     MAE\n",
       "0        Linear Regression  0.3906\n",
       "1  Random Forest Regressor  0.3783\n",
       "2                  XGBoost  0.3874\n",
       "3            Decision Tree  0.5198\n",
       "4    Bayesian Linear Model  0.4194"
      ]
     },
     "execution_count": 192,
     "metadata": {},
     "output_type": "execute_result"
    }
   ],
   "source": [
    "\n",
    "#Linear Regression\n",
    "lm = LinearRegression(n_jobs = 10000)\n",
    "model1=('Linear Regression', modelfit(lm))\n",
    "\n",
    "# Random Forest Regressor\n",
    "rf = RandomForestRegressor()\n",
    "model2=('Random Forest Regressor', modelfit(rf))\n",
    "\n",
    "# XGBoost\n",
    "xg = XGBRegressor(learning_rate=0.1, n_estimators=5000)\n",
    "model3=('XGBoost',modelfit(xg))\n",
    "\n",
    "# Decision Tree\n",
    "dt = DecisionTreeRegressor()\n",
    "model4= ('Decision Tree', modelfit(dt))\n",
    "\n",
    "# Bayesian Linear Model\n",
    "br = BayesianRidge(n_iter=1000, tol = 0.5)\n",
    "model5=('Bayesian Linear Model', modelfit(br))\n",
    "\n",
    "#Create a DataFrame with Models\n",
    "models = pd.DataFrame(data= [model1, model2, model3, model4, model5], columns=['Model', 'MAE'])\n",
    "models\n",
    "# mmodels.style.apply(highlight_cell, )"
   ]
  },
  {
   "cell_type": "code",
   "execution_count": 202,
   "metadata": {},
   "outputs": [
    {
     "name": "stdout",
     "output_type": "stream",
     "text": [
      "[22:17:18] WARNING: /Users/runner/work/xgboost/xgboost/python-package/build/temp.macosx-10.9-x86_64-cpython-37/xgboost/src/objective/regression_obj.cu:203: reg:linear is now deprecated in favor of reg:squarederror.\n"
     ]
    },
    {
     "data": {
      "text/plain": [
       "array([5.262018 , 5.4608755, 6.0133257, 4.163924 , 3.915171 , 4.8255253,\n",
       "       5.9982886, 3.9846919, 6.8619604, 4.849948 , 6.9992366, 5.345094 ,\n",
       "       4.075257 , 5.3883066, 7.456012 , 6.779226 , 5.3529716, 4.7769494,\n",
       "       4.7351604, 7.1164837, 6.78809  , 6.0909624, 6.5795765, 6.6198993,\n",
       "       5.7921634, 4.035946 , 5.8300586, 4.4551444, 5.332234 , 5.4235635,\n",
       "       5.8538313, 7.110623 , 5.3307858, 4.895803 , 4.0929756, 5.4917903,\n",
       "       6.181309 , 5.6505475, 5.3609166, 5.4556804, 5.1753197, 4.7559376,\n",
       "       5.5678   , 5.631397 , 4.863908 , 6.6557913, 6.1342063, 4.8108096,\n",
       "       4.3620067, 4.1734624, 4.677459 , 4.072746 , 6.6662555, 7.2318926,\n",
       "       4.0388117, 6.80899  , 4.6861076, 5.6457453, 4.070741 , 5.3476524,\n",
       "       3.7105572, 4.9170294, 7.1302733, 6.6848335, 7.3285007, 6.759253 ,\n",
       "       5.413713 , 6.0446796, 6.70063  , 4.4127383, 4.062571 , 6.465551 ,\n",
       "       4.8414607, 4.8459587, 4.9598327, 5.8157754, 4.7361107, 6.0227637,\n",
       "       4.570067 , 6.814828 , 6.2832904, 5.912626 , 5.3119855, 6.0617566,\n",
       "       6.0543137, 5.9314876, 4.6032724, 6.0631537, 7.325597 , 5.301843 ],\n",
       "      dtype=float32)"
      ]
     },
     "execution_count": 202,
     "metadata": {},
     "output_type": "execute_result"
    }
   ],
   "source": [
    "xg_reg_model = xgb.XGBRegressor(objective ='reg:linear', learning_rate = 0.1, n_estimators=5000)\n",
    "xg_reg_model.fit(X_train, y_train)\n",
    "xg_predictions = xg_reg_model.predict(X_test)\n",
    "xg_predictions"
   ]
  },
  {
   "cell_type": "code",
   "execution_count": 203,
   "metadata": {},
   "outputs": [
    {
     "data": {
      "text/plain": [
       "0.7928957647069097"
      ]
     },
     "execution_count": 203,
     "metadata": {},
     "output_type": "execute_result"
    }
   ],
   "source": [
    "r2_score(y_test, xg_predictions)"
   ]
  },
  {
   "cell_type": "code",
   "execution_count": 204,
   "metadata": {},
   "outputs": [
    {
     "data": {
      "text/plain": [
       "array([5.24339532, 5.22115167, 5.82301676, 4.50335405, 4.16570305,\n",
       "       4.67768635, 5.56302996, 4.18622058, 7.01520208, 4.7821355 ,\n",
       "       6.99405451, 5.29720026, 4.18685016, 5.2562597 , 7.12793378,\n",
       "       6.21760345, 5.31306281, 4.75284224, 4.76048971, 7.02421015,\n",
       "       6.70869939, 6.01395375, 6.4692332 , 6.31652859, 5.96567863,\n",
       "       4.11109183, 5.68445745, 4.81161454, 5.41482535, 5.30500049,\n",
       "       5.6316678 , 6.94334947, 5.18157767, 4.81080868, 4.20061303,\n",
       "       4.94059947, 6.0862235 , 5.57674178, 5.42009015, 5.19388478,\n",
       "       5.53502683, 4.77176941, 5.60765356, 5.58866989, 4.75688841,\n",
       "       6.78233653, 5.71008884, 4.77124838, 4.30662296, 4.2475578 ,\n",
       "       4.8359778 , 4.04351933, 6.63905638, 6.91982763, 4.0731257 ,\n",
       "       6.55773674, 4.80851352, 5.76807824, 4.23090092, 5.19092772,\n",
       "       4.05776509, 4.81363655, 7.02470612, 6.37854647, 7.09973475,\n",
       "       6.94568077, 5.38386142, 6.02390924, 6.47789114, 4.34081595,\n",
       "       4.10404161, 5.6848231 , 4.79393805, 4.84663585, 4.72536508,\n",
       "       5.82280659, 4.85171699, 5.92602942, 4.02440187, 6.81860065,\n",
       "       6.16702673, 5.71274022, 5.28838136, 5.98600262, 5.98201707,\n",
       "       5.84630829, 4.63133258, 6.00768626, 7.01285248, 5.42761835])"
      ]
     },
     "execution_count": 204,
     "metadata": {},
     "output_type": "execute_result"
    }
   ],
   "source": [
    "# Create a random forest regresor.\n",
    "rf_model = RandomForestRegressor(n_estimators=128, random_state=78) \n",
    "rf_model = rf_model.fit(X_train, y_train)\n",
    "rf_predictions= rf_model.predict(X_test)\n",
    "rf_predictions"
   ]
  },
  {
   "cell_type": "code",
   "execution_count": 205,
   "metadata": {},
   "outputs": [
    {
     "data": {
      "text/plain": [
       "0.810495830809052"
      ]
     },
     "execution_count": 205,
     "metadata": {},
     "output_type": "execute_result"
    }
   ],
   "source": [
    "r2_score(y_test, rf_predictions)"
   ]
  }
 ],
 "metadata": {
  "kernelspec": {
   "display_name": "Python 3.8.13 ('MachineLenv')",
   "language": "python",
   "name": "python3"
  },
  "language_info": {
   "codemirror_mode": {
    "name": "ipython",
    "version": 3
   },
   "file_extension": ".py",
   "mimetype": "text/x-python",
   "name": "python",
   "nbconvert_exporter": "python",
   "pygments_lexer": "ipython3",
   "version": "3.8.13"
  },
  "orig_nbformat": 4,
  "vscode": {
   "interpreter": {
    "hash": "13304beb2c282d717f5d25cf0d690d6947ba3f099f2ef1bb284aaacf82218492"
   }
  }
 },
 "nbformat": 4,
 "nbformat_minor": 2
}
