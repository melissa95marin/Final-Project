{
 "cells": [
  {
   "cell_type": "code",
   "execution_count": 127,
   "metadata": {},
   "outputs": [],
   "source": [
    "import pandas as pd\n",
    "import numpy as np\n",
    "# Importing the libraries\n",
    "from sklearn.model_selection import train_test_split # for data validation\n",
    "\n",
    "# Models\n",
    "from sklearn.linear_model import LinearRegression, BayesianRidge, LassoLars\n",
    "from sklearn.ensemble import RandomForestRegressor\n",
    "from sklearn.tree import DecisionTreeRegressor\n",
    "import xgboost as xgb\n",
    "from xgboost import XGBRegressor\n",
    "\n",
    "# Metrics and Grid Search\n",
    "from sklearn import model_selection, metrics\n",
    "from sklearn.model_selection import GridSearchCV\n",
    "from sklearn.metrics import explained_variance_score"
   ]
  },
  {
   "cell_type": "code",
   "execution_count": 113,
   "metadata": {},
   "outputs": [
    {
     "data": {
      "text/html": [
       "<div>\n",
       "<style scoped>\n",
       "    .dataframe tbody tr th:only-of-type {\n",
       "        vertical-align: middle;\n",
       "    }\n",
       "\n",
       "    .dataframe tbody tr th {\n",
       "        vertical-align: top;\n",
       "    }\n",
       "\n",
       "    .dataframe thead th {\n",
       "        text-align: right;\n",
       "    }\n",
       "</style>\n",
       "<table border=\"1\" class=\"dataframe\">\n",
       "  <thead>\n",
       "    <tr style=\"text-align: right;\">\n",
       "      <th></th>\n",
       "      <th>Country name</th>\n",
       "      <th>year</th>\n",
       "      <th>Life Ladder</th>\n",
       "      <th>Log GDP per capita</th>\n",
       "      <th>Social support</th>\n",
       "      <th>Healthy life expectancy at birth</th>\n",
       "      <th>Freedom to make life choices</th>\n",
       "      <th>Generosity</th>\n",
       "      <th>Perceptions of corruption</th>\n",
       "      <th>Positive affect</th>\n",
       "      <th>Negative affect</th>\n",
       "      <th>Confidence in national government</th>\n",
       "    </tr>\n",
       "  </thead>\n",
       "  <tbody>\n",
       "    <tr>\n",
       "      <th>0</th>\n",
       "      <td>Afghanistan</td>\n",
       "      <td>2008</td>\n",
       "      <td>3.723590</td>\n",
       "      <td>7.302574</td>\n",
       "      <td>0.450662</td>\n",
       "      <td>50.500000</td>\n",
       "      <td>0.718114</td>\n",
       "      <td>0.173169</td>\n",
       "      <td>0.881686</td>\n",
       "      <td>0.414297</td>\n",
       "      <td>0.258195</td>\n",
       "      <td>0.612072</td>\n",
       "    </tr>\n",
       "    <tr>\n",
       "      <th>1</th>\n",
       "      <td>Afghanistan</td>\n",
       "      <td>2009</td>\n",
       "      <td>4.401778</td>\n",
       "      <td>7.472446</td>\n",
       "      <td>0.552308</td>\n",
       "      <td>50.799999</td>\n",
       "      <td>0.678896</td>\n",
       "      <td>0.195469</td>\n",
       "      <td>0.850035</td>\n",
       "      <td>0.481421</td>\n",
       "      <td>0.237092</td>\n",
       "      <td>0.611545</td>\n",
       "    </tr>\n",
       "    <tr>\n",
       "      <th>2</th>\n",
       "      <td>Afghanistan</td>\n",
       "      <td>2010</td>\n",
       "      <td>4.758381</td>\n",
       "      <td>7.579183</td>\n",
       "      <td>0.539075</td>\n",
       "      <td>51.099998</td>\n",
       "      <td>0.600127</td>\n",
       "      <td>0.125859</td>\n",
       "      <td>0.706766</td>\n",
       "      <td>0.516907</td>\n",
       "      <td>0.275324</td>\n",
       "      <td>0.299357</td>\n",
       "    </tr>\n",
       "    <tr>\n",
       "      <th>3</th>\n",
       "      <td>Afghanistan</td>\n",
       "      <td>2011</td>\n",
       "      <td>3.831719</td>\n",
       "      <td>7.552006</td>\n",
       "      <td>0.521104</td>\n",
       "      <td>51.400002</td>\n",
       "      <td>0.495901</td>\n",
       "      <td>0.167723</td>\n",
       "      <td>0.731109</td>\n",
       "      <td>0.479835</td>\n",
       "      <td>0.267175</td>\n",
       "      <td>0.307386</td>\n",
       "    </tr>\n",
       "    <tr>\n",
       "      <th>4</th>\n",
       "      <td>Afghanistan</td>\n",
       "      <td>2012</td>\n",
       "      <td>3.782938</td>\n",
       "      <td>7.637953</td>\n",
       "      <td>0.520637</td>\n",
       "      <td>51.700001</td>\n",
       "      <td>0.530935</td>\n",
       "      <td>0.241247</td>\n",
       "      <td>0.775620</td>\n",
       "      <td>0.613513</td>\n",
       "      <td>0.267919</td>\n",
       "      <td>0.435440</td>\n",
       "    </tr>\n",
       "  </tbody>\n",
       "</table>\n",
       "</div>"
      ],
      "text/plain": [
       "  Country name  year  Life Ladder  Log GDP per capita  Social support  \\\n",
       "0  Afghanistan  2008     3.723590            7.302574        0.450662   \n",
       "1  Afghanistan  2009     4.401778            7.472446        0.552308   \n",
       "2  Afghanistan  2010     4.758381            7.579183        0.539075   \n",
       "3  Afghanistan  2011     3.831719            7.552006        0.521104   \n",
       "4  Afghanistan  2012     3.782938            7.637953        0.520637   \n",
       "\n",
       "   Healthy life expectancy at birth  Freedom to make life choices  Generosity  \\\n",
       "0                         50.500000                      0.718114    0.173169   \n",
       "1                         50.799999                      0.678896    0.195469   \n",
       "2                         51.099998                      0.600127    0.125859   \n",
       "3                         51.400002                      0.495901    0.167723   \n",
       "4                         51.700001                      0.530935    0.241247   \n",
       "\n",
       "   Perceptions of corruption  Positive affect  Negative affect  \\\n",
       "0                   0.881686         0.414297         0.258195   \n",
       "1                   0.850035         0.481421         0.237092   \n",
       "2                   0.706766         0.516907         0.275324   \n",
       "3                   0.731109         0.479835         0.267175   \n",
       "4                   0.775620         0.613513         0.267919   \n",
       "\n",
       "   Confidence in national government  \n",
       "0                           0.612072  \n",
       "1                           0.611545  \n",
       "2                           0.299357  \n",
       "3                           0.307386  \n",
       "4                           0.435440  "
      ]
     },
     "execution_count": 113,
     "metadata": {},
     "output_type": "execute_result"
    }
   ],
   "source": [
    "hapiness_df= pd.read_csv('hapiness_data.csv')\n",
    "hapiness_df.head()"
   ]
  },
  {
   "cell_type": "code",
   "execution_count": 114,
   "metadata": {},
   "outputs": [
    {
     "data": {
      "text/plain": [
       "579"
      ]
     },
     "execution_count": 114,
     "metadata": {},
     "output_type": "execute_result"
    }
   ],
   "source": [
    "#Check how many missing values there are in the dataset\n",
    "hapiness_df.isnull().sum().sum()"
   ]
  },
  {
   "cell_type": "code",
   "execution_count": 115,
   "metadata": {},
   "outputs": [],
   "source": [
    "# Drop null values\n",
    "hapiness_df=hapiness_df.dropna()\n",
    "hapiness_df= hapiness_df.reindex()"
   ]
  },
  {
   "cell_type": "code",
   "execution_count": 116,
   "metadata": {},
   "outputs": [
    {
     "data": {
      "text/plain": [
       "(1747, 12)"
      ]
     },
     "execution_count": 116,
     "metadata": {},
     "output_type": "execute_result"
    }
   ],
   "source": [
    "hapiness_df.shape"
   ]
  },
  {
   "cell_type": "code",
   "execution_count": 117,
   "metadata": {},
   "outputs": [],
   "source": [
    "#Summary Statistics\n",
    "#from pydoc import describe\n",
    "#hapiness_df.groupby(by='year')['Life Ladder'].describe()"
   ]
  },
  {
   "cell_type": "code",
   "execution_count": 118,
   "metadata": {},
   "outputs": [
    {
     "name": "stderr",
     "output_type": "stream",
     "text": [
      "/var/folders/zq/rwx6mtq50yd_vfcnh_qt_z580000gn/T/ipykernel_22931/1660446369.py:2: FutureWarning: Indexing with multiple keys (implicitly converted to a tuple of keys) will be deprecated, use a list instead.\n",
      "  data_model = hapiness_df.groupby(by= 'Country name')['Life Ladder', 'Log GDP per capita','Social support', 'Healthy life expectancy at birth','Freedom to make life choices','Generosity','Perceptions of corruption', 'Positive affect', 'Negative affect','Confidence in national government'].mean().reset_index()\n"
     ]
    }
   ],
   "source": [
    "#Creating the table model\n",
    "data_model = hapiness_df.groupby(by= 'Country name')['Life Ladder', 'Log GDP per capita','Social support', 'Healthy life expectancy at birth','Freedom to make life choices','Generosity','Perceptions of corruption', 'Positive affect', 'Negative affect','Confidence in national government'].mean().reset_index()\n",
    "\n",
    "# Creating the independent and depend variables\n",
    "y = data_model['Life Ladder']\n",
    "X = data_model[['Log GDP per capita','Social support', 'Healthy life expectancy at birth','Freedom to make life choices','Generosity' ,'Perceptions of corruption', 'Positive affect', 'Negative affect','Confidence in national government']]\n",
    "\n",
    "# Splitting the data into train and test data\n",
    "X_train, X_test, y_train, y_test = train_test_split(X, y, test_size=0.2, random_state=1)\n",
    "#X_train, X_test, y_train, y_test = train_test_split(X, y, random_state=1, stratify=y)"
   ]
  },
  {
   "cell_type": "code",
   "execution_count": 119,
   "metadata": {},
   "outputs": [],
   "source": [
    "# Creating a predefined function to test the models\n",
    "def modelfit(model):\n",
    "   model.fit(X_train, y_train)\n",
    "   preds = model.predict(X_test)\n",
    "   mae = metrics.mean_absolute_error(y_test, preds)\n",
    "   return (round(mae,4))"
   ]
  },
  {
   "cell_type": "code",
   "execution_count": 120,
   "metadata": {},
   "outputs": [
    {
     "data": {
      "text/html": [
       "<div>\n",
       "<style scoped>\n",
       "    .dataframe tbody tr th:only-of-type {\n",
       "        vertical-align: middle;\n",
       "    }\n",
       "\n",
       "    .dataframe tbody tr th {\n",
       "        vertical-align: top;\n",
       "    }\n",
       "\n",
       "    .dataframe thead th {\n",
       "        text-align: right;\n",
       "    }\n",
       "</style>\n",
       "<table border=\"1\" class=\"dataframe\">\n",
       "  <thead>\n",
       "    <tr style=\"text-align: right;\">\n",
       "      <th></th>\n",
       "      <th>Model</th>\n",
       "      <th>MAE</th>\n",
       "    </tr>\n",
       "  </thead>\n",
       "  <tbody>\n",
       "    <tr>\n",
       "      <th>0</th>\n",
       "      <td>Linear Regression</td>\n",
       "      <td>0.3381</td>\n",
       "    </tr>\n",
       "    <tr>\n",
       "      <th>1</th>\n",
       "      <td>Random Forest Regressor</td>\n",
       "      <td>0.3121</td>\n",
       "    </tr>\n",
       "    <tr>\n",
       "      <th>2</th>\n",
       "      <td>XGBoost</td>\n",
       "      <td>0.2496</td>\n",
       "    </tr>\n",
       "    <tr>\n",
       "      <th>3</th>\n",
       "      <td>Decision Tree</td>\n",
       "      <td>0.3360</td>\n",
       "    </tr>\n",
       "    <tr>\n",
       "      <th>4</th>\n",
       "      <td>Bayesian Linear Model</td>\n",
       "      <td>0.3439</td>\n",
       "    </tr>\n",
       "  </tbody>\n",
       "</table>\n",
       "</div>"
      ],
      "text/plain": [
       "                     Model     MAE\n",
       "0        Linear Regression  0.3381\n",
       "1  Random Forest Regressor  0.3121\n",
       "2                  XGBoost  0.2496\n",
       "3            Decision Tree  0.3360\n",
       "4    Bayesian Linear Model  0.3439"
      ]
     },
     "execution_count": 120,
     "metadata": {},
     "output_type": "execute_result"
    }
   ],
   "source": [
    "\n",
    "#Linear Regression\n",
    "lm = LinearRegression(n_jobs = 10000)\n",
    "model1=('Linear Regression', modelfit(lm))\n",
    "\n",
    "# Random Forest Regressor\n",
    "rf = RandomForestRegressor(n_jobs = 1000)\n",
    "model2=('Random Forest Regressor', modelfit(rf))\n",
    "\n",
    "# XGBoost\n",
    "xg = XGBRegressor(learning_rate=0.1, n_estimators=5000)\n",
    "model3=('XGBoost',modelfit(xg))\n",
    "\n",
    "# Decision Tree\n",
    "dt = DecisionTreeRegressor()\n",
    "model4= ('Decision Tree', modelfit(dt))\n",
    "\n",
    "# Bayesian Linear Model\n",
    "br = BayesianRidge(n_iter=1000, tol = 0.5)\n",
    "model5=('Bayesian Linear Model', modelfit(br))\n",
    "\n",
    "#Create a DataFrame with Models\n",
    "models = pd.DataFrame(data= [model1, model2, model3, model4, model5], columns=['Model', 'MAE'])\n",
    "models"
   ]
  },
  {
   "cell_type": "code",
   "execution_count": 130,
   "metadata": {},
   "outputs": [
    {
     "name": "stdout",
     "output_type": "stream",
     "text": [
      "[22:11:12] WARNING: /Users/runner/work/xgboost/xgboost/python-package/build/temp.macosx-10.9-x86_64-cpython-37/xgboost/src/objective/regression_obj.cu:203: reg:linear is now deprecated in favor of reg:squarederror.\n",
      "0.906972990684741\n",
      "Accuracy of Model:: 0.919930142515041\n"
     ]
    },
    {
     "data": {
      "text/plain": [
       "array([5.227877 , 5.2211776, 5.3684063, 4.312965 , 4.018866 , 4.7306104,\n",
       "       5.671484 , 3.953761 , 7.204849 , 4.738239 , 7.348206 , 4.836131 ,\n",
       "       4.167731 , 5.3687043, 7.375043 , 6.189487 , 5.4327154, 4.522335 ,\n",
       "       4.6490316, 7.312394 , 6.2902637, 5.8162036, 6.8719883, 6.0077467,\n",
       "       5.686565 , 4.2055144, 5.324521 , 4.4011164, 5.252072 , 5.150143 ],\n",
       "      dtype=float32)"
      ]
     },
     "execution_count": 130,
     "metadata": {},
     "output_type": "execute_result"
    }
   ],
   "source": [
    "xg_reg_model = xgb.XGBRegressor(objective ='reg:linear', learning_rate = 0.1, n_estimators=5000)\n",
    "xg_reg_model.fit(X_train, y_train)\n",
    "predictions = xg_reg_model.predict(X_test)\n",
    "#print(explained_variance_score(predictions,y_test))\n",
    "print(\"Accuracy of Model::\",xg_reg_model.score(X_test,y_test))\n",
    "\n",
    "predictions"
   ]
  }
 ],
 "metadata": {
  "kernelspec": {
   "display_name": "Python 3.8.13 ('MachineLenv')",
   "language": "python",
   "name": "python3"
  },
  "language_info": {
   "codemirror_mode": {
    "name": "ipython",
    "version": 3
   },
   "file_extension": ".py",
   "mimetype": "text/x-python",
   "name": "python",
   "nbconvert_exporter": "python",
   "pygments_lexer": "ipython3",
   "version": "3.8.13"
  },
  "orig_nbformat": 4,
  "vscode": {
   "interpreter": {
    "hash": "13304beb2c282d717f5d25cf0d690d6947ba3f099f2ef1bb284aaacf82218492"
   }
  }
 },
 "nbformat": 4,
 "nbformat_minor": 2
}
